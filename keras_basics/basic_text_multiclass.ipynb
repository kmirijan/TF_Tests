{
 "cells": [
  {
   "cell_type": "markdown",
   "metadata": {},
   "source": [
    "#### Text Classification: Multiclass\n",
    "\n",
    "This is a continuation of the previous notebook, but without a tutorial as an extra assignment. MultiClass classification on Stack Overflow data"
   ]
  },
  {
   "cell_type": "code",
   "execution_count": 2,
   "metadata": {},
   "outputs": [
    {
     "name": "stderr",
     "output_type": "stream",
     "text": [
      "2023-12-15 11:09:54.193072: I tensorflow/core/util/port.cc:113] oneDNN custom operations are on. You may see slightly different numerical results due to floating-point round-off errors from different computation orders. To turn them off, set the environment variable `TF_ENABLE_ONEDNN_OPTS=0`.\n",
      "2023-12-15 11:09:54.220357: E external/local_xla/xla/stream_executor/cuda/cuda_dnn.cc:9261] Unable to register cuDNN factory: Attempting to register factory for plugin cuDNN when one has already been registered\n",
      "2023-12-15 11:09:54.220387: E external/local_xla/xla/stream_executor/cuda/cuda_fft.cc:607] Unable to register cuFFT factory: Attempting to register factory for plugin cuFFT when one has already been registered\n",
      "2023-12-15 11:09:54.221113: E external/local_xla/xla/stream_executor/cuda/cuda_blas.cc:1515] Unable to register cuBLAS factory: Attempting to register factory for plugin cuBLAS when one has already been registered\n",
      "2023-12-15 11:09:54.226400: I tensorflow/core/platform/cpu_feature_guard.cc:182] This TensorFlow binary is optimized to use available CPU instructions in performance-critical operations.\n",
      "To enable the following instructions: AVX2 AVX_VNNI FMA, in other operations, rebuild TensorFlow with the appropriate compiler flags.\n",
      "2023-12-15 11:09:54.781813: W tensorflow/compiler/tf2tensorrt/utils/py_utils.cc:38] TF-TRT Warning: Could not find TensorRT\n"
     ]
    }
   ],
   "source": [
    "import matplotlib.pyplot as plt\n",
    "import os\n",
    "import re\n",
    "import shutil\n",
    "import string\n",
    "import tensorflow as tf\n",
    "\n",
    "from tensorflow.keras import layers, losses"
   ]
  },
  {
   "cell_type": "code",
   "execution_count": 3,
   "metadata": {},
   "outputs": [],
   "source": [
    "DATAPTH = '../data'\n",
    "url = \"https://storage.googleapis.com/download.tensorflow.org/data/stack_overflow_16k.tar.gz\"\n",
    "\n",
    "dataset = tf.keras.utils.get_file(\"so_16k\", url, untar=True, cache_dir=DATAPTH, cache_subdir='so_16k')\n"
   ]
  },
  {
   "cell_type": "code",
   "execution_count": 4,
   "metadata": {},
   "outputs": [
    {
     "data": {
      "text/plain": [
       "['train', 'test', 'so_16k.tar.gz', 'README.md']"
      ]
     },
     "execution_count": 4,
     "metadata": {},
     "output_type": "execute_result"
    }
   ],
   "source": [
    "dataset_dir = os.path.join(os.path.dirname(dataset))\n",
    "os.listdir(dataset_dir)"
   ]
  },
  {
   "cell_type": "code",
   "execution_count": 5,
   "metadata": {},
   "outputs": [
    {
     "data": {
      "text/plain": [
       "['javascript', 'python', 'csharp', 'java']"
      ]
     },
     "execution_count": 5,
     "metadata": {},
     "output_type": "execute_result"
    }
   ],
   "source": [
    "train_dir = os.path.join(dataset_dir, 'train')\n",
    "os.listdir(train_dir)"
   ]
  },
  {
   "cell_type": "code",
   "execution_count": 6,
   "metadata": {},
   "outputs": [
    {
     "name": "stdout",
     "output_type": "stream",
     "text": [
      "\"how many objects are created in inheritance? if only one then how parent class constructor gets executed when sub class object is create....class parent.{. parent(). {.  system.out.println(\"\"parent class construcor\"\");. }.}.class child extends parent .{. child(). {.  system.out.println(\"\"child class construcor\"\");. }. .}. class test. {.  public static void main(string a[]).  {.   child obj = new child();.  }. }\"\n",
      "\n"
     ]
    }
   ],
   "source": [
    "sample_file = os.path.join(train_dir, 'java/100.txt')\n",
    "with open(sample_file) as f:\n",
    "    print(f.read())"
   ]
  },
  {
   "cell_type": "code",
   "execution_count": 7,
   "metadata": {},
   "outputs": [
    {
     "name": "stdout",
     "output_type": "stream",
     "text": [
      "Found 8000 files belonging to 4 classes.\n",
      "Using 6400 files for training.\n"
     ]
    },
    {
     "name": "stderr",
     "output_type": "stream",
     "text": [
      "2023-12-15 11:10:00.926320: I external/local_xla/xla/stream_executor/cuda/cuda_executor.cc:887] could not open file to read NUMA node: /sys/bus/pci/devices/0000:01:00.0/numa_node\n",
      "Your kernel may have been built without NUMA support.\n",
      "2023-12-15 11:10:00.951565: I external/local_xla/xla/stream_executor/cuda/cuda_executor.cc:887] could not open file to read NUMA node: /sys/bus/pci/devices/0000:01:00.0/numa_node\n",
      "Your kernel may have been built without NUMA support.\n",
      "2023-12-15 11:10:00.951604: I external/local_xla/xla/stream_executor/cuda/cuda_executor.cc:887] could not open file to read NUMA node: /sys/bus/pci/devices/0000:01:00.0/numa_node\n",
      "Your kernel may have been built without NUMA support.\n",
      "2023-12-15 11:10:00.953998: I external/local_xla/xla/stream_executor/cuda/cuda_executor.cc:887] could not open file to read NUMA node: /sys/bus/pci/devices/0000:01:00.0/numa_node\n",
      "Your kernel may have been built without NUMA support.\n",
      "2023-12-15 11:10:00.954037: I external/local_xla/xla/stream_executor/cuda/cuda_executor.cc:887] could not open file to read NUMA node: /sys/bus/pci/devices/0000:01:00.0/numa_node\n",
      "Your kernel may have been built without NUMA support.\n",
      "2023-12-15 11:10:00.954051: I external/local_xla/xla/stream_executor/cuda/cuda_executor.cc:887] could not open file to read NUMA node: /sys/bus/pci/devices/0000:01:00.0/numa_node\n",
      "Your kernel may have been built without NUMA support.\n",
      "2023-12-15 11:10:01.209734: I external/local_xla/xla/stream_executor/cuda/cuda_executor.cc:887] could not open file to read NUMA node: /sys/bus/pci/devices/0000:01:00.0/numa_node\n",
      "Your kernel may have been built without NUMA support.\n",
      "2023-12-15 11:10:01.209781: I external/local_xla/xla/stream_executor/cuda/cuda_executor.cc:887] could not open file to read NUMA node: /sys/bus/pci/devices/0000:01:00.0/numa_node\n",
      "Your kernel may have been built without NUMA support.\n",
      "2023-12-15 11:10:01.209787: I tensorflow/core/common_runtime/gpu/gpu_device.cc:2022] Could not identify NUMA node of platform GPU id 0, defaulting to 0.  Your kernel may not have been built with NUMA support.\n",
      "2023-12-15 11:10:01.209813: I external/local_xla/xla/stream_executor/cuda/cuda_executor.cc:887] could not open file to read NUMA node: /sys/bus/pci/devices/0000:01:00.0/numa_node\n",
      "Your kernel may have been built without NUMA support.\n",
      "2023-12-15 11:10:01.209828: I tensorflow/core/common_runtime/gpu/gpu_device.cc:1929] Created device /job:localhost/replica:0/task:0/device:GPU:0 with 13701 MB memory:  -> device: 0, name: NVIDIA GeForce RTX 3080 Ti Laptop GPU, pci bus id: 0000:01:00.0, compute capability: 8.6\n",
      "2023-12-15 11:10:01.803822: I external/local_tsl/tsl/platform/default/subprocess.cc:304] Start cannot spawn child process: No such file or directory\n"
     ]
    }
   ],
   "source": [
    "batch_size = 32\n",
    "seed = 1234\n",
    "\n",
    "raw_train_ds = tf.keras.utils.text_dataset_from_directory(\n",
    "    DATAPTH + '/so_16k/train',\n",
    "    batch_size=batch_size,\n",
    "    validation_split = 0.2,\n",
    "    subset='training',\n",
    "    seed = seed\n",
    ")"
   ]
  },
  {
   "cell_type": "code",
   "execution_count": 8,
   "metadata": {},
   "outputs": [
    {
     "name": "stdout",
     "output_type": "stream",
     "text": [
      "Review b'\"the recursive method is getting into deadloop i am writing a simple crawler based on htmlagilitypack and fizzler, in order to check if a keyword is contained anywhere on the webpage and it\\'s corresponding sublinks. then the same procedure is repeated for all of the sublinks up to 50 level deep. so that the number grows exponentially. ..the issue is that i wanted to convert the method that i have written to a recursive one, but it doesn\\'t work - gets stuck after first link, as well as works really slow...this is what i\\'ve done currently:..    public static void getalllinks(htmlweb web, list&lt;string&gt; relevantlinks, string inputlink).    {.        string mainlink = \"\"http://www.cnet.com\"\";.        console.writeline(\"\"current count of links: \"\" + relevantlinks.count + \"\"tcurrent link: \"\" + inputlink);...        htmldocument html = web.load(inputlink);.        htmldocument htmlinner = new htmldocument();..        html.documentnode.descendants().            .where(n =&gt; n.name == \"\"script\"\" || n.name == \"\"style\"\").            .tolist().            .foreach(n =&gt; n.remove());..        var text = htmlinner.documentnode.innertext.tolower();.        text = regex.replace(text, @\"\"rn?|n\"\", \"\"\"\");.        text = regex.replace(text, \"\" {2,}\"\", \"\" \"\");.        text = text.trim();..        if (text.contains(\"\"microsoft\"\")).        {.            if (!relevantlinks.contains(inputlink)).            {.                relevantlinks.add(inputlink);.            }.        }..        var linktagslist = html.documentnode.queryselectorall(\"\"a\"\").tolist();..        foreach (var linktag in linktagslist).        {.            if (linktag.attributes[\"\"href\"\"] != null).            {.                var link = linktag.attributes[\"\"href\"\"].value;..                // check if the link found is the sublink of the main link.                if (!link.contains(mainlink)).                {.                    // check if only partial link then concat with main one.                    if (link.substring(0, 1) == \"\"/\"\").                    {.                        if (inputlink.substring(inputlink.length - 1, 1) == \"\"/\"\").                            inputlink = inputlink.substring(0, inputlink.length - 1);.                        link = inputlink + link;.                    }.                    else.                    {.                        link = string.empty;.                    }.                }.                if (!string.isnullorempty(link)).                {.                    console.writeline(link);.                    getalllinks(web, relevantlinks, link);.                }.            }.        }..    }...any hint or advice is highly appreciated.\"\\n'\n",
      "Label 0\n",
      "Review b'\"nested for each loop to insert value which in array without duplication and loop start from first example .if my values are in array like this..var myplaces = [\"\"a\"\", \"\"b\"\", \"\"c\"\"];.var friendplaces = [\"\"d\"\", \"\"0\"\", \"\"e\"\"];..for(var i = 0; i &lt; myplaces.length; i++) {.   console.log(myplaces[i]);..   for(var j = 0; j &lt; friendplaces.length; j++) {.      if (myplaces[i] == friendplaces[i]) {.          console.log(myplaces[i]);.      };   ...i need answer as .(a,d)(b,0)(c,e) as three result but it gives count more than 3.help me to modify my current answer (a,d) (d,a) (d,b) (d,c) then (b,o)\"\\n'\n",
      "Label 2\n",
      "Review b'\"interpret input as string and class member name in a few __init__ of different classes i have to use several times the construct..try:.    self.member_name = kwargs[\\'member_name\\'].except:.    self.member_name = default_value...or as suggested by moses koledoye..self.member_name = kwargs.get(\\'member_name\\', default_value)...i would like to have a method that inputs, say, the string \\'member_name\\' and default_value and that the corresponding initialization gets produced. for example, if one inputs \\'pi_approx\\' and 3.14 the resulting code is ..self.pi_approx = kwargs.get(\\'pi_approx\\', 3.14)...in this way i can replace a long sequence of these initializations by a loop along a list of all the required members and their default values...this technique emulate a switch statement is not the same thing but kind of has a similar flavor...i am not sure how to approach what i want to do.....assuming that initializer(m_name, default_val) is the construction that gets replaced by ..self.m_name = kwargs.get(\\'m_name\\', default_val)...i would then used it by having a lists member_names = [m_name1, m_name2, m_name3] and default_values = [def_val1, def_val2, def_val3] and calling..for m_name, d_val in zip(member_names, default_values):.    initializer(m_name, d_val)...this would replace long list of try\\'s and also make the code a bit more readable.\"\\n'\n",
      "Label 3\n",
      "Review b'\"how to inherit 2 class in blank i have class a and b. i want to inherit both class using class c. for class a, i am using below code - ..it\\'s working fine for single class. now i want to inherit class b. ..function a () {.}..function b () {.}..function c () {.}..b.prototype = object.create(a.prototype);.b.prototype.constructor = b;...now how c inherit a?..//b.prototype = object.create(a.prototype);.//b.prototype.constructor = b;\"\\n'\n",
      "Label 2\n",
      "Review b'how to connect to registry on another computer and read data in blank please help me to how connect to registry on another computer and read data in blank...i am search in google and see all sample code but none samples not connect to remote machine registry in network\\n'\n",
      "Label 0\n",
      "Review b'\"how to crop a portion from an existing pdf and create a new pdf in blank? i want to crop a portion in sizes like a5, a6 from an existing pdf of size a4 and want to create a new pdf\"\\n'\n",
      "Label 1\n",
      "Review b'\"why won\\'t my blank code display a name of a famous person born on the current date? i am trying to display the current date and a name of a famous person who was born on the same date. i cannot get the name of the famous person to show up. any ideas why? i would appreciate any help!..here is the html file:..&lt;?xml version=\"\"1.0\"\" encoding=\"\"utf-8\"\" ?&gt;..&lt;!doctype html public \"\" //w3c//dtd xhtml1.0 strict//en\"\".\"\"http://www.w3.org/tr/xhtml1/dtd/xhtml1-strict.dtd\"\"&gt;..&lt;html xmlns=\"\"http://www.w3.org/1999/xhtml\"\"&gt;..&lt;head&gt;.&lt;!--.    tutorial 10.    case problem 4..    author: collin klopstein.    date: december 5, 2013..    this web page is created to display the current day\\'s date and give a name of a famous person who is born on the same day..--&gt;..    &lt;title&gt;happy birthday&lt;/title&gt;.    &lt;link type=\"\"text/css\"\" rel=\"\"stylesheet\"\" href=\"\"date.css\"\" /&gt;..    &lt;script type=\"\"text/blank\"\" src=\"\"functions.js\"\"&gt;&lt;/script&gt;..&lt;/head&gt;.&lt;body&gt;.    &lt;div id=\"\"links\"\"&gt;.        &lt;ul&gt;.            &lt;li&gt;&lt;a href=\"\"index.htm\"\"&gt;home&lt;/a&gt;&lt;/li&gt;.            &lt;li&gt;&lt;a href=\"\"birthday.htm\"\"&gt;happy birthday&lt;/a&gt;&lt;/li&gt;.            &lt;li&gt;&lt;a href=\"\"dinnerplate.htm\"\"&gt;dinner plate&lt;/a&gt;&lt;/li&gt;.            &lt;li&gt;&lt;a href=\"\"tempest.htm\"\"&gt;shakespeare&lt;/a&gt;&lt;/li&gt;.        &lt;ul&gt;.    &lt;/div&gt;.    &lt;div id=\"\"pic\"\"&gt;.        &lt;img src=\"\"logo.jpg\"\" alt=\"\"happy birthday\"\" /&gt;.    &lt;/div&gt;.    &lt;div id=\"\"star\"\"&gt;.        &lt;script type=\"\"text/blank\"\"&gt;.            document.write(\"\"&lt;p&gt;today\\'s date is&lt;/p&gt;\"\");.            document.write(showdate());.            document.write(\"\"&lt;p&gt;a star born today&lt;/p&gt;\"\");.            document.write(showbirthday(daynumber()));.        &lt;/script&gt;.    &lt;/div&gt;..&lt;/body&gt;.&lt;/html&gt;...here is the blank file:../*.   new perspectives on html and xhtml 5th edition.   tutorial 10.   case problem 4..   function list:.   showdate.      used to display the date in the form \"\"weekday, month day, year\"\"..   daynumber.      used to calculate the day number (1 - 366) of a given date..   showbirthday.      used to display a famous birthday falling on a given date.*/..var births = new array();.   births[1] = \"\"j.d. salinger (1919) - author\"\";.   births[2] = \"\"isaac asimov (1920) - author\"\";..   ... // lots of birthdays here..   births[364] = \"\"jude law (1972) - actor\"\";.   births[365] = \"\"rudyard kipling (1865) - author\"\";.   births[366] = \"\"bonnie prince charlie (1720) - attempted to seize england\"\";...function showdate() {.   thisdate = new date();.   var thiswday=thisdate.getday();.   var thisday=thisdate.getdate();.   var thismonth=thisdate.getmonth();.   var thisyear=thisdate.getfullyear();.   var mname = new array(\"\"january\"\", \"\"february\"\", \"\"march\"\", \"\"april\"\", \"\"may\"\", .       \"\"june\"\", \"\"july\"\", \"\"august\"\", \"\"september\"\", \"\"october\"\",\"\"november\"\", \"\"december\"\");.   var wdname = new array(\"\"sunday\"\", \"\"monday\"\", \"\"tuesday\"\", \"\"wednesday\"\",.       \"\"thursday\"\", \"\"friday\"\", \"\"saturday\"\");.   return wdname[thiswday]+\"\", \"\"+mname[thismonth]+\"\" \"\"+thisday+\"\", \"\"+thisyear;.}..function daynumber() {.   thisdate = new date();.   var leapyeardate = thisdate.setfullyear(2004);.   var basedate = new date(\"\"january 1, 2004\"\");.   days = math.floor((leapyeardate - basedate)/(1000*60*60*24)+1);.   return days;.}..function showbirthday(day) {.        return births[day];.}\"\\n'\n",
      "Label 2\n",
      "Review b'\"using condition inside a while loop in blank i have a problem with my blank code. ..i need validating the user name, i used an if-condition inside the while loop but the thing is that even when the username and password are incorrect, it not executes any statement...i have tested the query of authentication in database and the output is correct...i\\'ve tried using these three different solutions without success...here is my code :..solution #1..using (odbcdatareader reader = command.executereader()).{.    while (reader.read()).    {.        int count = reader.getint32(0);..        if (count &gt; 0).        {.            response.write(\"\"welcome!\"\");.        }.        else.        {.            page.clientscript.registerstartupscript(this.gettype(), \"\"alert\"\", \"\"alert(\\'no data.\\');\"\", true);.        }.    }.}...solution #2..using (odbcdatareader reader = command.executereader()).{.    while (reader.read()).    {.        if (reader.hasrows).        {.            response.write(\"\"welcome!\"\");.        }.        else.        {.            page.clientscript.registerstartupscript(this.gettype(), \"\"alert\"\", \"\"alert(\\'no data.\\');\"\", true);.        }.    }.}...solution #3..using (odbcdatareader reader = command.executereader()).{.    while (reader.read()).    {.        if (!string.isnullorempty(reader[0].tostring())).        {.            response.write(\"\"welcome!\"\");.        }.        else.        {.            page.clientscript.registerstartupscript(this.gettype(), \"\"alert\"\", \"\"alert(\\'no data.\\');\"\", true);.        }.    }.}\"\\n'\n",
      "Label 0\n",
      "Review b'\"global objects in blank i have 2 files. 1 html and a js. the html file has check boxes. i\\'m setting a flag when i select a check box. and this flag has to go in the .js file. based on whether the flag is set or not, i\\'ll be performing some manipulations in the js file. basically, how do i do this so that the flag set from the html file is available in the blank file?..thank you...html file..function checkwifi(){..if(document.getelementbyid(\\'wifi\\').checked == true) ..wififlag.changeflag(true);..else ..wififlag.changeflag(false); ..}...javscript file..wififlag = new testflag(); ..function testflag()..{..this.flag = false;..} ..testflag.prototype.changeflag = function(newflag)..{.. this.flag = newflag; ..}\"\\n'\n",
      "Label 2\n",
      "Review b'\"ask the path to user export txt files blank i am trying to make a program that allows the user to export data to txt, however i want first to ask user what is the path to create the txt. however i\\'m not getting right the replace function, i doing adding a variable. .sorry if it\\'s a sily question...what i have tried:..string path = @\"\"##insert##export.txt\"\";..console.writeline(\"\"insert the path to export txt: \"\");.string temp = console.readline();.path = path.replace($\"\"##insert##\"\", \"\"{temp}\"\");\"\\n'\n",
      "Label 0\n"
     ]
    }
   ],
   "source": [
    "for text_batch, label_batch in raw_train_ds.take(1):\n",
    "    for i in range(10):\n",
    "        print(\"Review\", text_batch.numpy()[i])\n",
    "        print('Label', label_batch.numpy()[i])"
   ]
  },
  {
   "cell_type": "code",
   "execution_count": 9,
   "metadata": {},
   "outputs": [
    {
     "name": "stdout",
     "output_type": "stream",
     "text": [
      "Found 8000 files belonging to 4 classes.\n",
      "Using 1600 files for validation.\n"
     ]
    }
   ],
   "source": [
    "raw_val_ds = tf.keras.utils.text_dataset_from_directory(\n",
    "    DATAPTH + '/so_16k/train',\n",
    "    batch_size=batch_size,\n",
    "    validation_split=0.2,\n",
    "    subset='validation',\n",
    "    seed=seed\n",
    ")"
   ]
  },
  {
   "cell_type": "code",
   "execution_count": 10,
   "metadata": {},
   "outputs": [
    {
     "name": "stdout",
     "output_type": "stream",
     "text": [
      "Found 8000 files belonging to 4 classes.\n"
     ]
    }
   ],
   "source": [
    "raw_test_ds = tf.keras.utils.text_dataset_from_directory(\n",
    "    DATAPTH + '/so_16k/test',\n",
    "    batch_size=batch_size\n",
    ")"
   ]
  },
  {
   "cell_type": "code",
   "execution_count": 11,
   "metadata": {},
   "outputs": [],
   "source": [
    "# This dataset shouldn't have HTML tags, but I'll copy the code anyway\n",
    "\n",
    "def custom_standardization(input_data):\n",
    "    lower = tf.strings.lower(input_data)\n",
    "    stripped_html = tf.strings.regex_replace(lower, '<br />', ' ')\n",
    "    return tf.strings.regex_replace(stripped_html,\n",
    "                                    '[%s]' % re.escape(string.punctuation),\n",
    "                                    '')"
   ]
  },
  {
   "cell_type": "code",
   "execution_count": 12,
   "metadata": {},
   "outputs": [],
   "source": [
    "max_features = 15000\n",
    "sequence_length = 300\n",
    "\n",
    "vectorize_layer = layers.TextVectorization(\n",
    "    standardize=custom_standardization,\n",
    "    max_tokens=max_features,\n",
    "    output_mode='int',\n",
    "    output_sequence_length=sequence_length\n",
    ")"
   ]
  },
  {
   "cell_type": "code",
   "execution_count": 13,
   "metadata": {},
   "outputs": [],
   "source": [
    "train_text = raw_train_ds.map(lambda x,y: x)\n",
    "vectorize_layer.adapt(train_text)"
   ]
  },
  {
   "cell_type": "code",
   "execution_count": 14,
   "metadata": {},
   "outputs": [],
   "source": [
    "def vectorize_text(text, label):\n",
    "    text = tf.expand_dims(text, -1)\n",
    "    return vectorize_layer(text), label"
   ]
  },
  {
   "cell_type": "code",
   "execution_count": 15,
   "metadata": {},
   "outputs": [
    {
     "name": "stdout",
     "output_type": "stream",
     "text": [
      "Review tf.Tensor(b'\"how to use regex to format a number as 2.5k in a string to 2.5e3 i am parsing a spice file with blank which contains string math expressions and i am converting the text file to a blank script...an example of a math expressions in the file is:..expr = \\'k1 + 4.35k + 3.69meg*(pow(2.4u, 2*km2))\\'...i would like to find all the scaling factors in the expression and convert them to their exponent values:..scaling_factors = {.    \\'g\\'  : \\'e9\\',.    \\'meg\\': \\'e6\\',.    \\'k\\'  : \\'e3\\',.    \\'m\\'  : \\'e-3\\',.    \\'u\\'  : \\'e-6\\',.    \\'n\\'  : \\'e-9\\',.}...my wanted output would be like:..converted_expr = \\'k1 + 4.35e3 + 3.69e6*(pow(2.4e-6, 2*km2))\\'...i tried this:..digits_re = r\"\"([0-9]*.[0-9]+|[0-9]+)k\"\".sample = \\'k1 + 4.3k\\'.print(re.sub(digits_re, digits_re.replace(\\'k\\', \\'e3\\'), sample))...output:..k1 + \\\\de3...but it doesn\\'t work\"\\n', shape=(), dtype=string)\n",
      "Label python\n",
      "Vectorized Review (<tf.Tensor: shape=(1, 300), dtype=int64, numpy=\n",
      "array([[   25,     4,    69,  1111,     4,   296,     5,    66,    36,\n",
      "            1,     7,     5,    18,     4,     1,     3,    35,  1113,\n",
      "            5,     1,    40,    22,    16,    68,   288,    18,  1057,\n",
      "         1954,     8,     3,    35,   924,     2,   118,    40,     4,\n",
      "            5,    16,     1,   138,     9,     5,  1057,  1954,     7,\n",
      "            2,    40,     1,  4636,     1,     1,     1,    65,    48,\n",
      "            4,   141,    72,     2,  9077,  3475,     7,     2,   652,\n",
      "            8,   218,   185,     4,   349,  5257,     1,   552,     1,\n",
      "        12830,  8057,   317,  2826,   341,  2826,   775,  8057,   137,\n",
      "            1,   646,   122,    65,    33,     1,  4636,     1,     1,\n",
      "            1,   140,     1,     1,  4636,     1,     1,  2826,     1,\n",
      "            1,    10,   181,   136,     0,     0,     0,     0,     0,\n",
      "            0,     0,     0,     0,     0,     0,     0,     0,     0,\n",
      "            0,     0,     0,     0,     0,     0,     0,     0,     0,\n",
      "            0,     0,     0,     0,     0,     0,     0,     0,     0,\n",
      "            0,     0,     0,     0,     0,     0,     0,     0,     0,\n",
      "            0,     0,     0,     0,     0,     0,     0,     0,     0,\n",
      "            0,     0,     0,     0,     0,     0,     0,     0,     0,\n",
      "            0,     0,     0,     0,     0,     0,     0,     0,     0,\n",
      "            0,     0,     0,     0,     0,     0,     0,     0,     0,\n",
      "            0,     0,     0,     0,     0,     0,     0,     0,     0,\n",
      "            0,     0,     0,     0,     0,     0,     0,     0,     0,\n",
      "            0,     0,     0,     0,     0,     0,     0,     0,     0,\n",
      "            0,     0,     0,     0,     0,     0,     0,     0,     0,\n",
      "            0,     0,     0,     0,     0,     0,     0,     0,     0,\n",
      "            0,     0,     0,     0,     0,     0,     0,     0,     0,\n",
      "            0,     0,     0,     0,     0,     0,     0,     0,     0,\n",
      "            0,     0,     0,     0,     0,     0,     0,     0,     0,\n",
      "            0,     0,     0,     0,     0,     0,     0,     0,     0,\n",
      "            0,     0,     0,     0,     0,     0,     0,     0,     0,\n",
      "            0,     0,     0,     0,     0,     0,     0,     0,     0,\n",
      "            0,     0,     0,     0,     0,     0,     0,     0,     0,\n",
      "            0,     0,     0,     0,     0,     0,     0,     0,     0,\n",
      "            0,     0,     0]])>, <tf.Tensor: shape=(), dtype=int32, numpy=3>)\n"
     ]
    }
   ],
   "source": [
    "text_batch, label_batch = next(iter(raw_train_ds))\n",
    "first_review, first_label = text_batch[0], label_batch[0]\n",
    "print('Review', first_review)\n",
    "print('Label', raw_train_ds.class_names[first_label])\n",
    "print('Vectorized Review', vectorize_text(first_review, first_label))"
   ]
  },
  {
   "cell_type": "code",
   "execution_count": 16,
   "metadata": {},
   "outputs": [
    {
     "name": "stdout",
     "output_type": "stream",
     "text": [
      "25  ---> how\n",
      "4  ---> to\n",
      "69  ---> use\n",
      "1111  ---> regex\n",
      "4  ---> to\n",
      "296  ---> format\n",
      "5  ---> a\n",
      "66  ---> number\n",
      "36  ---> as\n",
      "1  ---> [UNK]\n",
      "7  ---> in\n",
      "5  ---> a\n",
      "18  ---> string\n",
      "4  ---> to\n",
      "1  ---> [UNK]\n",
      "3  ---> i\n",
      "35  ---> am\n",
      "1113  ---> parsing\n",
      "5  ---> a\n",
      "1  ---> [UNK]\n",
      "40  ---> file\n",
      "22  ---> with\n",
      "16  ---> blank\n",
      "68  ---> which\n",
      "288  ---> contains\n",
      "18  ---> string\n",
      "1057  ---> math\n",
      "1954  ---> expressions\n",
      "8  ---> and\n",
      "3  ---> i\n",
      "35  ---> am\n",
      "924  ---> converting\n",
      "2  ---> the\n",
      "118  ---> text\n",
      "40  ---> file\n",
      "4  ---> to\n",
      "5  ---> a\n",
      "16  ---> blank\n",
      "1  ---> [UNK]\n",
      "138  ---> example\n",
      "9  ---> of\n",
      "5  ---> a\n",
      "1057  ---> math\n",
      "1954  ---> expressions\n",
      "7  ---> in\n",
      "2  ---> the\n",
      "40  ---> file\n",
      "1  ---> [UNK]\n",
      "4636  ---> k1\n",
      "1  ---> [UNK]\n",
      "1  ---> [UNK]\n",
      "1  ---> [UNK]\n",
      "65  ---> would\n",
      "48  ---> like\n",
      "4  ---> to\n",
      "141  ---> find\n",
      "72  ---> all\n",
      "2  ---> the\n",
      "9077  ---> scaling\n",
      "3475  ---> factors\n",
      "7  ---> in\n",
      "2  ---> the\n",
      "652  ---> expression\n",
      "8  ---> and\n",
      "218  ---> convert\n",
      "185  ---> them\n",
      "4  ---> to\n",
      "349  ---> their\n",
      "5257  ---> exponent\n",
      "1  ---> [UNK]\n",
      "552  ---> g\n",
      "1  ---> [UNK]\n",
      "12830  ---> meg\n",
      "8057  ---> e6\n",
      "317  ---> k\n",
      "2826  ---> e3\n",
      "341  ---> m\n",
      "2826  ---> e3\n",
      "775  ---> u\n",
      "8057  ---> e6\n",
      "137  ---> n\n",
      "1  ---> [UNK]\n",
      "646  ---> wanted\n",
      "122  ---> output\n",
      "65  ---> would\n",
      "33  ---> be\n",
      "1  ---> [UNK]\n",
      "4636  ---> k1\n",
      "1  ---> [UNK]\n",
      "1  ---> [UNK]\n",
      "1  ---> [UNK]\n",
      "140  ---> tried\n",
      "1  ---> [UNK]\n",
      "1  ---> [UNK]\n",
      "4636  ---> k1\n",
      "1  ---> [UNK]\n",
      "1  ---> [UNK]\n",
      "2826  ---> e3\n",
      "1  ---> [UNK]\n",
      "1  ---> [UNK]\n",
      "10  ---> it\n",
      "181  ---> doesnt\n",
      "136  ---> work\n",
      "Vocabulary Size:  15000\n"
     ]
    }
   ],
   "source": [
    "for i in range(250):\n",
    "    item = vectorize_text(first_review, first_label)[0][0][i]\n",
    "    value = tf.keras.backend.get_value(item)\n",
    "    if value == 0:\n",
    "        continue\n",
    "    print(value, \" --->\", vectorize_layer.get_vocabulary()[value])\n",
    "print('Vocabulary Size: ', len(vectorize_layer.get_vocabulary()))\n"
   ]
  },
  {
   "cell_type": "code",
   "execution_count": 17,
   "metadata": {},
   "outputs": [],
   "source": [
    "train_ds = raw_train_ds.map(vectorize_text)\n",
    "val_ds = raw_val_ds.map(vectorize_text)\n",
    "test_ds = raw_test_ds.map(vectorize_text)"
   ]
  },
  {
   "cell_type": "code",
   "execution_count": 18,
   "metadata": {},
   "outputs": [],
   "source": [
    "train_ds = raw_train_ds.map(vectorize_text)\n",
    "val_ds = raw_val_ds.map(vectorize_text)\n",
    "test_ds = raw_test_ds.map(vectorize_text)"
   ]
  },
  {
   "cell_type": "code",
   "execution_count": 19,
   "metadata": {},
   "outputs": [
    {
     "name": "stdout",
     "output_type": "stream",
     "text": [
      "Model: \"sequential\"\n",
      "_________________________________________________________________\n",
      " Layer (type)                Output Shape              Param #   \n",
      "=================================================================\n",
      " embedding (Embedding)       (None, None, 64)          960000    \n",
      "                                                                 \n",
      " dropout (Dropout)           (None, None, 64)          0         \n",
      "                                                                 \n",
      " separable_conv1d (Separabl  (None, None, 32)          2272      \n",
      " eConv1D)                                                        \n",
      "                                                                 \n",
      " separable_conv1d_1 (Separa  (None, None, 32)          1152      \n",
      " bleConv1D)                                                      \n",
      "                                                                 \n",
      " global_average_pooling1d (  (None, 32)                0         \n",
      " GlobalAveragePooling1D)                                         \n",
      "                                                                 \n",
      " dropout_1 (Dropout)         (None, 32)                0         \n",
      "                                                                 \n",
      " dense (Dense)               (None, 4)                 132       \n",
      "                                                                 \n",
      "=================================================================\n",
      "Total params: 963556 (3.68 MB)\n",
      "Trainable params: 963556 (3.68 MB)\n",
      "Non-trainable params: 0 (0.00 Byte)\n",
      "_________________________________________________________________\n"
     ]
    }
   ],
   "source": [
    "embedding_dim = 64\n",
    "model = tf.keras.Sequential([\n",
    "    layers.Embedding(max_features, embedding_dim), # takes integer encoded reviews and looks ip and embedding vector for each word-index\n",
    "    layers.Dropout(0.2),\n",
    "    layers.SeparableConv1D(filters=32,\n",
    "                           kernel_size=3,\n",
    "                           activation='relu',\n",
    "                           padding='same'),\n",
    "    layers.SeparableConv1D(filters=32,\n",
    "                           kernel_size=3,\n",
    "                           activation='relu',\n",
    "                           padding='same'),\n",
    "    layers.GlobalAveragePooling1D(), # returns fixed length ouput vector for each example by averaging over the sequence dimension\n",
    "    layers.Dropout(0.2),\n",
    "    layers.Dense(4)\n",
    "])\n",
    "model.summary()"
   ]
  },
  {
   "cell_type": "code",
   "execution_count": 20,
   "metadata": {},
   "outputs": [],
   "source": [
    "callbacks = [tf.keras.callbacks.EarlyStopping(\n",
    "        monitor='val_loss', patience=3)]\n",
    "model.compile(loss=losses.SparseCategoricalCrossentropy(from_logits=True),\n",
    "              optimizer=tf.keras.optimizers.Adam(learning_rate=1e-4),\n",
    "              metrics=['accuracy'])"
   ]
  },
  {
   "cell_type": "code",
   "execution_count": 21,
   "metadata": {},
   "outputs": [
    {
     "name": "stdout",
     "output_type": "stream",
     "text": [
      "Epoch 1/50\n"
     ]
    },
    {
     "name": "stderr",
     "output_type": "stream",
     "text": [
      "2023-12-15 11:10:08.649120: I external/local_xla/xla/stream_executor/cuda/cuda_dnn.cc:454] Loaded cuDNN version 8904\n",
      "2023-12-15 11:10:08.757421: I external/local_tsl/tsl/platform/default/subprocess.cc:304] Start cannot spawn child process: No such file or directory\n",
      "2023-12-15 11:10:09.275201: I external/local_xla/xla/service/service.cc:168] XLA service 0x7f3448fd3d00 initialized for platform CUDA (this does not guarantee that XLA will be used). Devices:\n",
      "2023-12-15 11:10:09.275231: I external/local_xla/xla/service/service.cc:176]   StreamExecutor device (0): NVIDIA GeForce RTX 3080 Ti Laptop GPU, Compute Capability 8.6\n",
      "2023-12-15 11:10:09.279022: I tensorflow/compiler/mlir/tensorflow/utils/dump_mlir_util.cc:269] disabling MLIR crash reproducer, set env var `MLIR_CRASH_REPRODUCER_DIRECTORY` to enable.\n",
      "WARNING: All log messages before absl::InitializeLog() is called are written to STDERR\n",
      "I0000 00:00:1702667409.346102  282351 device_compiler.h:186] Compiled cluster using XLA!  This line is logged at most once for the lifetime of the process.\n"
     ]
    },
    {
     "name": "stdout",
     "output_type": "stream",
     "text": [
      "200/200 [==============================] - 19s 82ms/step - loss: 1.3863 - accuracy: 0.2448 - val_loss: 1.3862 - val_accuracy: 0.2488\n",
      "Epoch 2/50\n",
      "200/200 [==============================] - 9s 46ms/step - loss: 1.3862 - accuracy: 0.2541 - val_loss: 1.3860 - val_accuracy: 0.2606\n",
      "Epoch 3/50\n",
      "200/200 [==============================] - 6s 30ms/step - loss: 1.3857 - accuracy: 0.2764 - val_loss: 1.3852 - val_accuracy: 0.3244\n",
      "Epoch 4/50\n",
      "200/200 [==============================] - 4s 20ms/step - loss: 1.3835 - accuracy: 0.2941 - val_loss: 1.3815 - val_accuracy: 0.3450\n",
      "Epoch 5/50\n",
      "200/200 [==============================] - 3s 16ms/step - loss: 1.3738 - accuracy: 0.3380 - val_loss: 1.3660 - val_accuracy: 0.3631\n",
      "Epoch 6/50\n",
      "200/200 [==============================] - 3s 15ms/step - loss: 1.3425 - accuracy: 0.3752 - val_loss: 1.3261 - val_accuracy: 0.3887\n",
      "Epoch 7/50\n",
      "200/200 [==============================] - 3s 13ms/step - loss: 1.2877 - accuracy: 0.4039 - val_loss: 1.2696 - val_accuracy: 0.4081\n",
      "Epoch 8/50\n",
      "200/200 [==============================] - 2s 9ms/step - loss: 1.2256 - accuracy: 0.4269 - val_loss: 1.2153 - val_accuracy: 0.4225\n",
      "Epoch 9/50\n",
      "200/200 [==============================] - 2s 9ms/step - loss: 1.1706 - accuracy: 0.4466 - val_loss: 1.1648 - val_accuracy: 0.4481\n",
      "Epoch 10/50\n",
      "200/200 [==============================] - 2s 7ms/step - loss: 1.1183 - accuracy: 0.4742 - val_loss: 1.1157 - val_accuracy: 0.4787\n",
      "Epoch 11/50\n",
      "200/200 [==============================] - 2s 9ms/step - loss: 1.0669 - accuracy: 0.5088 - val_loss: 1.0696 - val_accuracy: 0.5075\n",
      "Epoch 12/50\n",
      "200/200 [==============================] - 2s 11ms/step - loss: 1.0183 - accuracy: 0.5370 - val_loss: 1.0304 - val_accuracy: 0.5625\n",
      "Epoch 13/50\n",
      "200/200 [==============================] - 2s 10ms/step - loss: 0.9739 - accuracy: 0.5603 - val_loss: 0.9974 - val_accuracy: 0.5875\n",
      "Epoch 14/50\n",
      "200/200 [==============================] - 2s 8ms/step - loss: 0.9395 - accuracy: 0.5769 - val_loss: 0.9707 - val_accuracy: 0.6006\n",
      "Epoch 15/50\n",
      "200/200 [==============================] - 2s 10ms/step - loss: 0.9069 - accuracy: 0.5958 - val_loss: 0.9489 - val_accuracy: 0.6069\n",
      "Epoch 16/50\n",
      "200/200 [==============================] - 2s 10ms/step - loss: 0.8795 - accuracy: 0.6039 - val_loss: 0.9304 - val_accuracy: 0.6200\n",
      "Epoch 17/50\n",
      "200/200 [==============================] - 2s 9ms/step - loss: 0.8562 - accuracy: 0.6241 - val_loss: 0.9174 - val_accuracy: 0.6225\n",
      "Epoch 18/50\n",
      "200/200 [==============================] - 2s 9ms/step - loss: 0.8309 - accuracy: 0.6359 - val_loss: 0.9052 - val_accuracy: 0.6244\n",
      "Epoch 19/50\n",
      "200/200 [==============================] - 2s 8ms/step - loss: 0.8158 - accuracy: 0.6331 - val_loss: 0.8948 - val_accuracy: 0.6263\n",
      "Epoch 20/50\n",
      "200/200 [==============================] - 2s 10ms/step - loss: 0.7963 - accuracy: 0.6550 - val_loss: 0.8861 - val_accuracy: 0.6300\n",
      "Epoch 21/50\n",
      "200/200 [==============================] - 2s 8ms/step - loss: 0.7800 - accuracy: 0.6586 - val_loss: 0.8796 - val_accuracy: 0.6325\n",
      "Epoch 22/50\n",
      "200/200 [==============================] - 2s 8ms/step - loss: 0.7579 - accuracy: 0.6675 - val_loss: 0.8728 - val_accuracy: 0.6338\n",
      "Epoch 23/50\n",
      "200/200 [==============================] - 2s 8ms/step - loss: 0.7488 - accuracy: 0.6734 - val_loss: 0.8692 - val_accuracy: 0.6338\n",
      "Epoch 24/50\n",
      "200/200 [==============================] - 2s 8ms/step - loss: 0.7266 - accuracy: 0.6831 - val_loss: 0.8637 - val_accuracy: 0.6325\n",
      "Epoch 25/50\n",
      "200/200 [==============================] - 2s 9ms/step - loss: 0.7052 - accuracy: 0.7019 - val_loss: 0.8602 - val_accuracy: 0.6350\n",
      "Epoch 26/50\n",
      "200/200 [==============================] - 2s 8ms/step - loss: 0.7017 - accuracy: 0.6967 - val_loss: 0.8584 - val_accuracy: 0.6369\n",
      "Epoch 27/50\n",
      "200/200 [==============================] - 2s 9ms/step - loss: 0.6892 - accuracy: 0.7070 - val_loss: 0.8563 - val_accuracy: 0.6331\n",
      "Epoch 28/50\n",
      "200/200 [==============================] - 2s 8ms/step - loss: 0.6769 - accuracy: 0.7144 - val_loss: 0.8552 - val_accuracy: 0.6338\n",
      "Epoch 29/50\n",
      "200/200 [==============================] - 2s 9ms/step - loss: 0.6639 - accuracy: 0.7222 - val_loss: 0.8523 - val_accuracy: 0.6338\n",
      "Epoch 30/50\n",
      "200/200 [==============================] - 2s 8ms/step - loss: 0.6410 - accuracy: 0.7283 - val_loss: 0.8531 - val_accuracy: 0.6388\n",
      "Epoch 31/50\n",
      "200/200 [==============================] - 2s 8ms/step - loss: 0.6353 - accuracy: 0.7325 - val_loss: 0.8523 - val_accuracy: 0.6400\n",
      "Epoch 32/50\n",
      "200/200 [==============================] - 2s 10ms/step - loss: 0.6283 - accuracy: 0.7342 - val_loss: 0.8524 - val_accuracy: 0.6400\n"
     ]
    }
   ],
   "source": [
    "epochs = 50\n",
    "history = model.fit(\n",
    "    train_ds,\n",
    "    validation_data=val_ds,\n",
    "    epochs=epochs,\n",
    "    callbacks=callbacks\n",
    ")"
   ]
  },
  {
   "cell_type": "markdown",
   "metadata": {},
   "source": [
    "No matter what I do in this simple paradigm, I'm stuck at around 76% validation accuracy. There's some obvious overfitting going on here that I can't seem to overcome"
   ]
  },
  {
   "cell_type": "code",
   "execution_count": 22,
   "metadata": {},
   "outputs": [
    {
     "name": "stdout",
     "output_type": "stream",
     "text": [
      "  1/250 [..............................] - ETA: 12s - loss: 0.8455 - accuracy: 0.6562"
     ]
    },
    {
     "name": "stdout",
     "output_type": "stream",
     "text": [
      "250/250 [==============================] - 1s 4ms/step - loss: 0.8521 - accuracy: 0.6441\n",
      "Loss:  0.8521233201026917\n",
      "Accuracy:  0.6441249847412109\n"
     ]
    }
   ],
   "source": [
    "loss, accuracy = model.evaluate(test_ds)\n",
    "print('Loss: ', loss)\n",
    "print('Accuracy: ', accuracy)"
   ]
  },
  {
   "cell_type": "code",
   "execution_count": 23,
   "metadata": {},
   "outputs": [
    {
     "data": {
      "text/plain": [
       "dict_keys(['loss', 'accuracy', 'val_loss', 'val_accuracy'])"
      ]
     },
     "execution_count": 23,
     "metadata": {},
     "output_type": "execute_result"
    }
   ],
   "source": [
    "history_dict = history.history\n",
    "history_dict.keys()"
   ]
  },
  {
   "cell_type": "code",
   "execution_count": 24,
   "metadata": {},
   "outputs": [
    {
     "data": {
      "image/png": "[encoded data removed]",
      "text/plain": [
       "<Figure size 640x480 with 1 Axes>"
      ]
     },
     "metadata": {},
     "output_type": "display_data"
    }
   ],
   "source": [
    "acc = history_dict['accuracy']\n",
    "val_acc = history_dict['val_accuracy']\n",
    "loss = history_dict['loss']\n",
    "val_loss = history_dict['val_loss']\n",
    "\n",
    "epochs = range(1, len(acc)+1)\n",
    "\n",
    "plt.plot(epochs, loss, 'bo', label='Training Loss')\n",
    "plt.plot(epochs, val_loss, 'b', label='Validation Loss')\n",
    "plt.xlabel('Epochs')\n",
    "plt.ylabel('Loss')\n",
    "\n",
    "plt.show()"
   ]
  },
  {
   "cell_type": "code",
   "execution_count": 25,
   "metadata": {},
   "outputs": [
    {
     "data": {
      "image/png": "[encoded data removed]",
      "text/plain": [
       "<Figure size 640x480 with 1 Axes>"
      ]
     },
     "metadata": {},
     "output_type": "display_data"
    }
   ],
   "source": [
    "plt.plot(epochs, acc, 'bo', label='Training acc')\n",
    "plt.plot(epochs, val_acc, 'b', label='Validation acc')\n",
    "plt.title('Training and validation accuracy')\n",
    "plt.xlabel('Epochs')\n",
    "plt.ylabel('Accuracy')\n",
    "plt.legend(loc='lower right')\n",
    "\n",
    "plt.show()"
   ]
  },
  {
   "cell_type": "code",
   "execution_count": null,
   "metadata": {},
   "outputs": [],
   "source": []
  }
 ],
 "metadata": {
  "kernelspec": {
   "display_name": "tf-gpu",
   "language": "python",
   "name": "python3"
  },
  "language_info": {
   "codemirror_mode": {
    "name": "ipython",
    "version": 3
   },
   "file_extension": ".py",
   "mimetype": "text/x-python",
   "name": "python",
   "nbconvert_exporter": "python",
   "pygments_lexer": "ipython3",
   "version": "3.9.18"
  }
 },
 "nbformat": 4,
 "nbformat_minor": 2
}
