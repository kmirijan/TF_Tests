{
 "cells": [
  {
   "cell_type": "markdown",
   "metadata": {},
   "source": [
    "#### Text Classification: Multiclass\n",
    "\n",
    "This is a continuation of the previous notebook, but without a tutorial as an extra assignment. MultiClass classification on Stack Overflow data"
   ]
  },
  {
   "cell_type": "code",
   "execution_count": 1,
   "metadata": {},
   "outputs": [
    {
     "name": "stderr",
     "output_type": "stream",
     "text": [
      "2023-12-15 09:34:20.663530: I tensorflow/core/util/port.cc:113] oneDNN custom operations are on. You may see slightly different numerical results due to floating-point round-off errors from different computation orders. To turn them off, set the environment variable `TF_ENABLE_ONEDNN_OPTS=0`.\n",
      "2023-12-15 09:34:20.688196: E external/local_xla/xla/stream_executor/cuda/cuda_dnn.cc:9261] Unable to register cuDNN factory: Attempting to register factory for plugin cuDNN when one has already been registered\n",
      "2023-12-15 09:34:20.688217: E external/local_xla/xla/stream_executor/cuda/cuda_fft.cc:607] Unable to register cuFFT factory: Attempting to register factory for plugin cuFFT when one has already been registered\n",
      "2023-12-15 09:34:20.689135: E external/local_xla/xla/stream_executor/cuda/cuda_blas.cc:1515] Unable to register cuBLAS factory: Attempting to register factory for plugin cuBLAS when one has already been registered\n",
      "2023-12-15 09:34:20.693638: I tensorflow/core/platform/cpu_feature_guard.cc:182] This TensorFlow binary is optimized to use available CPU instructions in performance-critical operations.\n",
      "To enable the following instructions: AVX2 AVX_VNNI FMA, in other operations, rebuild TensorFlow with the appropriate compiler flags.\n",
      "2023-12-15 09:34:21.225132: W tensorflow/compiler/tf2tensorrt/utils/py_utils.cc:38] TF-TRT Warning: Could not find TensorRT\n"
     ]
    }
   ],
   "source": [
    "import matplotlib.pyplot as plt\n",
    "import os\n",
    "import re\n",
    "import shutil\n",
    "import string\n",
    "import tensorflow as tf\n",
    "\n",
    "from tensorflow.keras import layers, losses"
   ]
  },
  {
   "cell_type": "code",
   "execution_count": 3,
   "metadata": {},
   "outputs": [
    {
     "name": "stdout",
     "output_type": "stream",
     "text": [
      "Downloading data from https://storage.googleapis.com/download.tensorflow.org/data/stack_overflow_16k.tar.gz\n",
      "6053168/6053168 [==============================] - 1s 0us/step\n"
     ]
    }
   ],
   "source": [
    "DATAPTH = '../data'\n",
    "url = \"https://storage.googleapis.com/download.tensorflow.org/data/stack_overflow_16k.tar.gz\"\n",
    "\n",
    "dataset = tf.keras.utils.get_file(\"so_16k\", url, untar=True, cache_dir=DATAPTH, cache_subdir='so_16k')\n"
   ]
  },
  {
   "cell_type": "code",
   "execution_count": 5,
   "metadata": {},
   "outputs": [
    {
     "data": {
      "text/plain": [
       "['train', 'test', 'so_16k.tar.gz', 'README.md']"
      ]
     },
     "execution_count": 5,
     "metadata": {},
     "output_type": "execute_result"
    }
   ],
   "source": [
    "dataset_dir = os.path.join(os.path.dirname(dataset))\n",
    "os.listdir(dataset_dir)"
   ]
  },
  {
   "cell_type": "code",
   "execution_count": 6,
   "metadata": {},
   "outputs": [
    {
     "data": {
      "text/plain": [
       "['javascript', 'python', 'csharp', 'java']"
      ]
     },
     "execution_count": 6,
     "metadata": {},
     "output_type": "execute_result"
    }
   ],
   "source": [
    "train_dir = os.path.join(dataset_dir, 'train')\n",
    "os.listdir(train_dir)"
   ]
  },
  {
   "cell_type": "code",
   "execution_count": 7,
   "metadata": {},
   "outputs": [
    {
     "name": "stdout",
     "output_type": "stream",
     "text": [
      "\"how many objects are created in inheritance? if only one then how parent class constructor gets executed when sub class object is create....class parent.{. parent(). {.  system.out.println(\"\"parent class construcor\"\");. }.}.class child extends parent .{. child(). {.  system.out.println(\"\"child class construcor\"\");. }. .}. class test. {.  public static void main(string a[]).  {.   child obj = new child();.  }. }\"\n",
      "\n"
     ]
    }
   ],
   "source": [
    "sample_file = os.path.join(train_dir, 'java/100.txt')\n",
    "with open(sample_file) as f:\n",
    "    print(f.read())"
   ]
  },
  {
   "cell_type": "code",
   "execution_count": 12,
   "metadata": {},
   "outputs": [
    {
     "name": "stdout",
     "output_type": "stream",
     "text": [
      "Found 8000 files belonging to 4 classes.\n",
      "Using 6400 files for training.\n"
     ]
    }
   ],
   "source": [
    "batch_size = 32\n",
    "seed = 1234\n",
    "\n",
    "raw_train_ds = tf.keras.utils.text_dataset_from_directory(\n",
    "    DATAPTH + '/so_16k/train',\n",
    "    batch_size=batch_size,\n",
    "    validation_split = 0.2,\n",
    "    subset='training',\n",
    "    seed = seed\n",
    ")"
   ]
  },
  {
   "cell_type": "code",
   "execution_count": 13,
   "metadata": {},
   "outputs": [
    {
     "name": "stdout",
     "output_type": "stream",
     "text": [
      "Review b'\"the recursive method is getting into deadloop i am writing a simple crawler based on htmlagilitypack and fizzler, in order to check if a keyword is contained anywhere on the webpage and it\\'s corresponding sublinks. then the same procedure is repeated for all of the sublinks up to 50 level deep. so that the number grows exponentially. ..the issue is that i wanted to convert the method that i have written to a recursive one, but it doesn\\'t work - gets stuck after first link, as well as works really slow...this is what i\\'ve done currently:..    public static void getalllinks(htmlweb web, list&lt;string&gt; relevantlinks, string inputlink).    {.        string mainlink = \"\"http://www.cnet.com\"\";.        console.writeline(\"\"current count of links: \"\" + relevantlinks.count + \"\"tcurrent link: \"\" + inputlink);...        htmldocument html = web.load(inputlink);.        htmldocument htmlinner = new htmldocument();..        html.documentnode.descendants().            .where(n =&gt; n.name == \"\"script\"\" || n.name == \"\"style\"\").            .tolist().            .foreach(n =&gt; n.remove());..        var text = htmlinner.documentnode.innertext.tolower();.        text = regex.replace(text, @\"\"rn?|n\"\", \"\"\"\");.        text = regex.replace(text, \"\" {2,}\"\", \"\" \"\");.        text = text.trim();..        if (text.contains(\"\"microsoft\"\")).        {.            if (!relevantlinks.contains(inputlink)).            {.                relevantlinks.add(inputlink);.            }.        }..        var linktagslist = html.documentnode.queryselectorall(\"\"a\"\").tolist();..        foreach (var linktag in linktagslist).        {.            if (linktag.attributes[\"\"href\"\"] != null).            {.                var link = linktag.attributes[\"\"href\"\"].value;..                // check if the link found is the sublink of the main link.                if (!link.contains(mainlink)).                {.                    // check if only partial link then concat with main one.                    if (link.substring(0, 1) == \"\"/\"\").                    {.                        if (inputlink.substring(inputlink.length - 1, 1) == \"\"/\"\").                            inputlink = inputlink.substring(0, inputlink.length - 1);.                        link = inputlink + link;.                    }.                    else.                    {.                        link = string.empty;.                    }.                }.                if (!string.isnullorempty(link)).                {.                    console.writeline(link);.                    getalllinks(web, relevantlinks, link);.                }.            }.        }..    }...any hint or advice is highly appreciated.\"\\n'\n",
      "Label 0\n",
      "Review b'\"nested for each loop to insert value which in array without duplication and loop start from first example .if my values are in array like this..var myplaces = [\"\"a\"\", \"\"b\"\", \"\"c\"\"];.var friendplaces = [\"\"d\"\", \"\"0\"\", \"\"e\"\"];..for(var i = 0; i &lt; myplaces.length; i++) {.   console.log(myplaces[i]);..   for(var j = 0; j &lt; friendplaces.length; j++) {.      if (myplaces[i] == friendplaces[i]) {.          console.log(myplaces[i]);.      };   ...i need answer as .(a,d)(b,0)(c,e) as three result but it gives count more than 3.help me to modify my current answer (a,d) (d,a) (d,b) (d,c) then (b,o)\"\\n'\n",
      "Label 2\n",
      "Review b'\"interpret input as string and class member name in a few __init__ of different classes i have to use several times the construct..try:.    self.member_name = kwargs[\\'member_name\\'].except:.    self.member_name = default_value...or as suggested by moses koledoye..self.member_name = kwargs.get(\\'member_name\\', default_value)...i would like to have a method that inputs, say, the string \\'member_name\\' and default_value and that the corresponding initialization gets produced. for example, if one inputs \\'pi_approx\\' and 3.14 the resulting code is ..self.pi_approx = kwargs.get(\\'pi_approx\\', 3.14)...in this way i can replace a long sequence of these initializations by a loop along a list of all the required members and their default values...this technique emulate a switch statement is not the same thing but kind of has a similar flavor...i am not sure how to approach what i want to do.....assuming that initializer(m_name, default_val) is the construction that gets replaced by ..self.m_name = kwargs.get(\\'m_name\\', default_val)...i would then used it by having a lists member_names = [m_name1, m_name2, m_name3] and default_values = [def_val1, def_val2, def_val3] and calling..for m_name, d_val in zip(member_names, default_values):.    initializer(m_name, d_val)...this would replace long list of try\\'s and also make the code a bit more readable.\"\\n'\n",
      "Label 3\n",
      "Review b'\"how to inherit 2 class in blank i have class a and b. i want to inherit both class using class c. for class a, i am using below code - ..it\\'s working fine for single class. now i want to inherit class b. ..function a () {.}..function b () {.}..function c () {.}..b.prototype = object.create(a.prototype);.b.prototype.constructor = b;...now how c inherit a?..//b.prototype = object.create(a.prototype);.//b.prototype.constructor = b;\"\\n'\n",
      "Label 2\n",
      "Review b'how to connect to registry on another computer and read data in blank please help me to how connect to registry on another computer and read data in blank...i am search in google and see all sample code but none samples not connect to remote machine registry in network\\n'\n",
      "Label 0\n",
      "Review b'\"how to crop a portion from an existing pdf and create a new pdf in blank? i want to crop a portion in sizes like a5, a6 from an existing pdf of size a4 and want to create a new pdf\"\\n'\n",
      "Label 1\n",
      "Review b'\"why won\\'t my blank code display a name of a famous person born on the current date? i am trying to display the current date and a name of a famous person who was born on the same date. i cannot get the name of the famous person to show up. any ideas why? i would appreciate any help!..here is the html file:..&lt;?xml version=\"\"1.0\"\" encoding=\"\"utf-8\"\" ?&gt;..&lt;!doctype html public \"\" //w3c//dtd xhtml1.0 strict//en\"\".\"\"http://www.w3.org/tr/xhtml1/dtd/xhtml1-strict.dtd\"\"&gt;..&lt;html xmlns=\"\"http://www.w3.org/1999/xhtml\"\"&gt;..&lt;head&gt;.&lt;!--.    tutorial 10.    case problem 4..    author: collin klopstein.    date: december 5, 2013..    this web page is created to display the current day\\'s date and give a name of a famous person who is born on the same day..--&gt;..    &lt;title&gt;happy birthday&lt;/title&gt;.    &lt;link type=\"\"text/css\"\" rel=\"\"stylesheet\"\" href=\"\"date.css\"\" /&gt;..    &lt;script type=\"\"text/blank\"\" src=\"\"functions.js\"\"&gt;&lt;/script&gt;..&lt;/head&gt;.&lt;body&gt;.    &lt;div id=\"\"links\"\"&gt;.        &lt;ul&gt;.            &lt;li&gt;&lt;a href=\"\"index.htm\"\"&gt;home&lt;/a&gt;&lt;/li&gt;.            &lt;li&gt;&lt;a href=\"\"birthday.htm\"\"&gt;happy birthday&lt;/a&gt;&lt;/li&gt;.            &lt;li&gt;&lt;a href=\"\"dinnerplate.htm\"\"&gt;dinner plate&lt;/a&gt;&lt;/li&gt;.            &lt;li&gt;&lt;a href=\"\"tempest.htm\"\"&gt;shakespeare&lt;/a&gt;&lt;/li&gt;.        &lt;ul&gt;.    &lt;/div&gt;.    &lt;div id=\"\"pic\"\"&gt;.        &lt;img src=\"\"logo.jpg\"\" alt=\"\"happy birthday\"\" /&gt;.    &lt;/div&gt;.    &lt;div id=\"\"star\"\"&gt;.        &lt;script type=\"\"text/blank\"\"&gt;.            document.write(\"\"&lt;p&gt;today\\'s date is&lt;/p&gt;\"\");.            document.write(showdate());.            document.write(\"\"&lt;p&gt;a star born today&lt;/p&gt;\"\");.            document.write(showbirthday(daynumber()));.        &lt;/script&gt;.    &lt;/div&gt;..&lt;/body&gt;.&lt;/html&gt;...here is the blank file:../*.   new perspectives on html and xhtml 5th edition.   tutorial 10.   case problem 4..   function list:.   showdate.      used to display the date in the form \"\"weekday, month day, year\"\"..   daynumber.      used to calculate the day number (1 - 366) of a given date..   showbirthday.      used to display a famous birthday falling on a given date.*/..var births = new array();.   births[1] = \"\"j.d. salinger (1919) - author\"\";.   births[2] = \"\"isaac asimov (1920) - author\"\";..   ... // lots of birthdays here..   births[364] = \"\"jude law (1972) - actor\"\";.   births[365] = \"\"rudyard kipling (1865) - author\"\";.   births[366] = \"\"bonnie prince charlie (1720) - attempted to seize england\"\";...function showdate() {.   thisdate = new date();.   var thiswday=thisdate.getday();.   var thisday=thisdate.getdate();.   var thismonth=thisdate.getmonth();.   var thisyear=thisdate.getfullyear();.   var mname = new array(\"\"january\"\", \"\"february\"\", \"\"march\"\", \"\"april\"\", \"\"may\"\", .       \"\"june\"\", \"\"july\"\", \"\"august\"\", \"\"september\"\", \"\"october\"\",\"\"november\"\", \"\"december\"\");.   var wdname = new array(\"\"sunday\"\", \"\"monday\"\", \"\"tuesday\"\", \"\"wednesday\"\",.       \"\"thursday\"\", \"\"friday\"\", \"\"saturday\"\");.   return wdname[thiswday]+\"\", \"\"+mname[thismonth]+\"\" \"\"+thisday+\"\", \"\"+thisyear;.}..function daynumber() {.   thisdate = new date();.   var leapyeardate = thisdate.setfullyear(2004);.   var basedate = new date(\"\"january 1, 2004\"\");.   days = math.floor((leapyeardate - basedate)/(1000*60*60*24)+1);.   return days;.}..function showbirthday(day) {.        return births[day];.}\"\\n'\n",
      "Label 2\n",
      "Review b'\"using condition inside a while loop in blank i have a problem with my blank code. ..i need validating the user name, i used an if-condition inside the while loop but the thing is that even when the username and password are incorrect, it not executes any statement...i have tested the query of authentication in database and the output is correct...i\\'ve tried using these three different solutions without success...here is my code :..solution #1..using (odbcdatareader reader = command.executereader()).{.    while (reader.read()).    {.        int count = reader.getint32(0);..        if (count &gt; 0).        {.            response.write(\"\"welcome!\"\");.        }.        else.        {.            page.clientscript.registerstartupscript(this.gettype(), \"\"alert\"\", \"\"alert(\\'no data.\\');\"\", true);.        }.    }.}...solution #2..using (odbcdatareader reader = command.executereader()).{.    while (reader.read()).    {.        if (reader.hasrows).        {.            response.write(\"\"welcome!\"\");.        }.        else.        {.            page.clientscript.registerstartupscript(this.gettype(), \"\"alert\"\", \"\"alert(\\'no data.\\');\"\", true);.        }.    }.}...solution #3..using (odbcdatareader reader = command.executereader()).{.    while (reader.read()).    {.        if (!string.isnullorempty(reader[0].tostring())).        {.            response.write(\"\"welcome!\"\");.        }.        else.        {.            page.clientscript.registerstartupscript(this.gettype(), \"\"alert\"\", \"\"alert(\\'no data.\\');\"\", true);.        }.    }.}\"\\n'\n",
      "Label 0\n",
      "Review b'\"global objects in blank i have 2 files. 1 html and a js. the html file has check boxes. i\\'m setting a flag when i select a check box. and this flag has to go in the .js file. based on whether the flag is set or not, i\\'ll be performing some manipulations in the js file. basically, how do i do this so that the flag set from the html file is available in the blank file?..thank you...html file..function checkwifi(){..if(document.getelementbyid(\\'wifi\\').checked == true) ..wififlag.changeflag(true);..else ..wififlag.changeflag(false); ..}...javscript file..wififlag = new testflag(); ..function testflag()..{..this.flag = false;..} ..testflag.prototype.changeflag = function(newflag)..{.. this.flag = newflag; ..}\"\\n'\n",
      "Label 2\n",
      "Review b'\"ask the path to user export txt files blank i am trying to make a program that allows the user to export data to txt, however i want first to ask user what is the path to create the txt. however i\\'m not getting right the replace function, i doing adding a variable. .sorry if it\\'s a sily question...what i have tried:..string path = @\"\"##insert##export.txt\"\";..console.writeline(\"\"insert the path to export txt: \"\");.string temp = console.readline();.path = path.replace($\"\"##insert##\"\", \"\"{temp}\"\");\"\\n'\n",
      "Label 0\n"
     ]
    }
   ],
   "source": [
    "for text_batch, label_batch in raw_train_ds.take(1):\n",
    "    for i in range(10):\n",
    "        print(\"Review\", text_batch.numpy()[i])\n",
    "        print('Label', label_batch.numpy()[i])"
   ]
  },
  {
   "cell_type": "code",
   "execution_count": 23,
   "metadata": {},
   "outputs": [
    {
     "name": "stdout",
     "output_type": "stream",
     "text": [
      "Found 8000 files belonging to 4 classes.\n",
      "Using 1600 files for validation.\n"
     ]
    }
   ],
   "source": [
    "raw_val_ds = tf.keras.utils.text_dataset_from_directory(\n",
    "    DATAPTH + '/so_16k/train',\n",
    "    batch_size=batch_size,\n",
    "    validation_split=0.2,\n",
    "    subset='validation',\n",
    "    seed=seed\n",
    ")"
   ]
  },
  {
   "cell_type": "code",
   "execution_count": 15,
   "metadata": {},
   "outputs": [
    {
     "name": "stdout",
     "output_type": "stream",
     "text": [
      "Found 8000 files belonging to 4 classes.\n"
     ]
    }
   ],
   "source": [
    "raw_test_ds = tf.keras.utils.text_dataset_from_directory(\n",
    "    DATAPTH + '/so_16k/test',\n",
    "    batch_size=batch_size\n",
    ")"
   ]
  },
  {
   "cell_type": "code",
   "execution_count": 16,
   "metadata": {},
   "outputs": [],
   "source": [
    "# This dataset shouldn't have HTML tags, but I'll copy the code anyway\n",
    "\n",
    "def custom_standardization(input_data):\n",
    "    lower = tf.strings.lower(input_data)\n",
    "    stripped_html = tf.strings.regex_replace(lower, '<br />', ' ')\n",
    "    return tf.strings.regex_replace(stripped_html,\n",
    "                                    '[%s]' % re.escape(string.punctuation),\n",
    "                                    '')"
   ]
  },
  {
   "cell_type": "code",
   "execution_count": 32,
   "metadata": {},
   "outputs": [],
   "source": [
    "max_features = 15000\n",
    "sequence_length = 300\n",
    "\n",
    "vectorize_layer = layers.TextVectorization(\n",
    "    standardize=custom_standardization,\n",
    "    max_tokens=max_features,\n",
    "    output_mode='int',\n",
    "    output_sequence_length=sequence_length\n",
    ")"
   ]
  },
  {
   "cell_type": "code",
   "execution_count": 33,
   "metadata": {},
   "outputs": [],
   "source": [
    "train_text = raw_train_ds.map(lambda x,y: x)\n",
    "vectorize_layer.adapt(train_text)"
   ]
  },
  {
   "cell_type": "code",
   "execution_count": 34,
   "metadata": {},
   "outputs": [],
   "source": [
    "def vectorize_text(text, label):\n",
    "    text = tf.expand_dims(text, -1)\n",
    "    return vectorize_layer(text), label"
   ]
  },
  {
   "cell_type": "code",
   "execution_count": 35,
   "metadata": {},
   "outputs": [
    {
     "name": "stdout",
     "output_type": "stream",
     "text": [
      "Review tf.Tensor(b'\"understanding the expression (value, othervalue) i found this in a blank test..how come (1,4) returns 4 ?..what is going on in that expression ?..would someone have a link to the doc concerning it ?\"\\n', shape=(), dtype=string)\n",
      "Label javascript\n",
      "Vectorized Review (<tf.Tensor: shape=(1, 300), dtype=int64, numpy=\n",
      "array([[ 934,    2,  652,   49,    1,    3,  229,   13,    7,    5,   16,\n",
      "           1,  684,  739,  235,  150,   54,    6,  425,   37,    7,   14,\n",
      "         652,   65,  282,   17,    5,  450,    4,    2, 1131, 8176,   10,\n",
      "           0,    0,    0,    0,    0,    0,    0,    0,    0,    0,    0,\n",
      "           0,    0,    0,    0,    0,    0,    0,    0,    0,    0,    0,\n",
      "           0,    0,    0,    0,    0,    0,    0,    0,    0,    0,    0,\n",
      "           0,    0,    0,    0,    0,    0,    0,    0,    0,    0,    0,\n",
      "           0,    0,    0,    0,    0,    0,    0,    0,    0,    0,    0,\n",
      "           0,    0,    0,    0,    0,    0,    0,    0,    0,    0,    0,\n",
      "           0,    0,    0,    0,    0,    0,    0,    0,    0,    0,    0,\n",
      "           0,    0,    0,    0,    0,    0,    0,    0,    0,    0,    0,\n",
      "           0,    0,    0,    0,    0,    0,    0,    0,    0,    0,    0,\n",
      "           0,    0,    0,    0,    0,    0,    0,    0,    0,    0,    0,\n",
      "           0,    0,    0,    0,    0,    0,    0,    0,    0,    0,    0,\n",
      "           0,    0,    0,    0,    0,    0,    0,    0,    0,    0,    0,\n",
      "           0,    0,    0,    0,    0,    0,    0,    0,    0,    0,    0,\n",
      "           0,    0,    0,    0,    0,    0,    0,    0,    0,    0,    0,\n",
      "           0,    0,    0,    0,    0,    0,    0,    0,    0,    0,    0,\n",
      "           0,    0,    0,    0,    0,    0,    0,    0,    0,    0,    0,\n",
      "           0,    0,    0,    0,    0,    0,    0,    0,    0,    0,    0,\n",
      "           0,    0,    0,    0,    0,    0,    0,    0,    0,    0,    0,\n",
      "           0,    0,    0,    0,    0,    0,    0,    0,    0,    0,    0,\n",
      "           0,    0,    0,    0,    0,    0,    0,    0,    0,    0,    0,\n",
      "           0,    0,    0,    0,    0,    0,    0,    0,    0,    0,    0,\n",
      "           0,    0,    0,    0,    0,    0,    0,    0,    0,    0,    0,\n",
      "           0,    0,    0,    0,    0,    0,    0,    0,    0,    0,    0,\n",
      "           0,    0,    0,    0,    0,    0,    0,    0,    0,    0,    0,\n",
      "           0,    0,    0]])>, <tf.Tensor: shape=(), dtype=int32, numpy=2>)\n"
     ]
    }
   ],
   "source": [
    "text_batch, label_batch = next(iter(raw_train_ds))\n",
    "first_review, first_label = text_batch[0], label_batch[0]\n",
    "print('Review', first_review)\n",
    "print('Label', raw_train_ds.class_names[first_label])\n",
    "print('Vectorized Review', vectorize_text(first_review, first_label))"
   ]
  },
  {
   "cell_type": "code",
   "execution_count": 36,
   "metadata": {},
   "outputs": [
    {
     "name": "stdout",
     "output_type": "stream",
     "text": [
      "934  ---> understanding\n",
      "2  ---> the\n",
      "652  ---> expression\n",
      "49  ---> value\n",
      "1  ---> [UNK]\n",
      "3  ---> i\n",
      "229  ---> found\n",
      "13  ---> this\n",
      "7  ---> in\n",
      "5  ---> a\n",
      "16  ---> blank\n",
      "1  ---> [UNK]\n",
      "684  ---> come\n",
      "739  ---> 14\n",
      "235  ---> returns\n",
      "150  ---> 4\n",
      "54  ---> what\n",
      "6  ---> is\n",
      "425  ---> going\n",
      "37  ---> on\n",
      "7  ---> in\n",
      "14  ---> that\n",
      "652  ---> expression\n",
      "65  ---> would\n",
      "282  ---> someone\n",
      "17  ---> have\n",
      "5  ---> a\n",
      "450  ---> link\n",
      "4  ---> to\n",
      "2  ---> the\n",
      "1131  ---> doc\n",
      "8176  ---> concerning\n",
      "10  ---> it\n",
      "Vocabulary Size:  15000\n"
     ]
    }
   ],
   "source": [
    "for i in range(250):\n",
    "    item = vectorize_text(first_review, first_label)[0][0][i]\n",
    "    value = tf.keras.backend.get_value(item)\n",
    "    if value == 0:\n",
    "        continue\n",
    "    print(value, \" --->\", vectorize_layer.get_vocabulary()[value])\n",
    "print('Vocabulary Size: ', len(vectorize_layer.get_vocabulary()))\n"
   ]
  },
  {
   "cell_type": "code",
   "execution_count": 37,
   "metadata": {},
   "outputs": [],
   "source": [
    "train_ds = raw_train_ds.map(vectorize_text)\n",
    "val_ds = raw_val_ds.map(vectorize_text)\n",
    "test_ds = raw_test_ds.map(vectorize_text)"
   ]
  },
  {
   "cell_type": "code",
   "execution_count": 38,
   "metadata": {},
   "outputs": [],
   "source": [
    "train_ds = raw_train_ds.map(vectorize_text)\n",
    "val_ds = raw_val_ds.map(vectorize_text)\n",
    "test_ds = raw_test_ds.map(vectorize_text)"
   ]
  },
  {
   "cell_type": "code",
   "execution_count": 79,
   "metadata": {},
   "outputs": [
    {
     "name": "stdout",
     "output_type": "stream",
     "text": [
      "Model: \"sequential_11\"\n",
      "_________________________________________________________________\n",
      " Layer (type)                Output Shape              Param #   \n",
      "=================================================================\n",
      " embedding_12 (Embedding)    (None, None, 64)          960000    \n",
      "                                                                 \n",
      " dropout_26 (Dropout)        (None, None, 64)          0         \n",
      "                                                                 \n",
      " separable_conv1d_13 (Separ  (None, None, 32)          2272      \n",
      " ableConv1D)                                                     \n",
      "                                                                 \n",
      " separable_conv1d_14 (Separ  (None, None, 32)          1152      \n",
      " ableConv1D)                                                     \n",
      "                                                                 \n",
      " max_pooling1d_5 (MaxPoolin  (None, None, 32)          0         \n",
      " g1D)                                                            \n",
      "                                                                 \n",
      " global_average_pooling1d_1  (None, 32)                0         \n",
      " 1 (GlobalAveragePooling1D)                                      \n",
      "                                                                 \n",
      " dropout_27 (Dropout)        (None, 32)                0         \n",
      "                                                                 \n",
      " dense_13 (Dense)            (None, 4)                 132       \n",
      "                                                                 \n",
      "=================================================================\n",
      "Total params: 963556 (3.68 MB)\n",
      "Trainable params: 963556 (3.68 MB)\n",
      "Non-trainable params: 0 (0.00 Byte)\n",
      "_________________________________________________________________\n"
     ]
    }
   ],
   "source": [
    "embedding_dim = 64\n",
    "model = tf.keras.Sequential([\n",
    "    layers.Embedding(max_features, embedding_dim), # takes integer encoded reviews and looks ip and embedding vector for each word-index\n",
    "    layers.Dropout(0.2),\n",
    "    layers.SeparableConv1D(filters=32,\n",
    "                           kernel_size=3,\n",
    "                           activation='relu',\n",
    "                           padding='same'),\n",
    "    layers.SeparableConv1D(filters=32,\n",
    "                           kernel_size=3,\n",
    "                           activation='relu',\n",
    "                           padding='same'),\n",
    "    layers.MaxPooling1D(3),\n",
    "    layers.GlobalAveragePooling1D(), # returns fixed length ouput vector for each example by averaging over the sequence dimension\n",
    "    layers.Dropout(0.2),\n",
    "    layers.Dense(4)\n",
    "])\n",
    "model.summary()"
   ]
  },
  {
   "cell_type": "code",
   "execution_count": 80,
   "metadata": {},
   "outputs": [],
   "source": [
    "callbacks = [tf.keras.callbacks.EarlyStopping(\n",
    "        monitor='val_loss', patience=3)]\n",
    "model.compile(loss=losses.SparseCategoricalCrossentropy(from_logits=True),\n",
    "              optimizer=tf.keras.optimizers.Adam(learning_rate=1e-4),\n",
    "              metrics=['accuracy'])"
   ]
  },
  {
   "cell_type": "code",
   "execution_count": 81,
   "metadata": {},
   "outputs": [
    {
     "name": "stdout",
     "output_type": "stream",
     "text": [
      "Epoch 1/50\n"
     ]
    },
    {
     "name": "stdout",
     "output_type": "stream",
     "text": [
      "200/200 [==============================] - 12s 55ms/step - loss: 1.3863 - accuracy: 0.2444 - val_loss: 1.3862 - val_accuracy: 0.2694\n",
      "Epoch 2/50\n",
      "200/200 [==============================] - 6s 30ms/step - loss: 1.3861 - accuracy: 0.2745 - val_loss: 1.3860 - val_accuracy: 0.2750\n",
      "Epoch 3/50\n",
      "200/200 [==============================] - 4s 22ms/step - loss: 1.3857 - accuracy: 0.2991 - val_loss: 1.3856 - val_accuracy: 0.2881\n",
      "Epoch 4/50\n",
      "200/200 [==============================] - 3s 15ms/step - loss: 1.3849 - accuracy: 0.3137 - val_loss: 1.3844 - val_accuracy: 0.3088\n",
      "Epoch 5/50\n",
      "200/200 [==============================] - 2s 10ms/step - loss: 1.3827 - accuracy: 0.3294 - val_loss: 1.3814 - val_accuracy: 0.3338\n",
      "Epoch 6/50\n",
      "200/200 [==============================] - 3s 13ms/step - loss: 1.3757 - accuracy: 0.3609 - val_loss: 1.3718 - val_accuracy: 0.3575\n",
      "Epoch 7/50\n",
      "200/200 [==============================] - 2s 10ms/step - loss: 1.3566 - accuracy: 0.3830 - val_loss: 1.3464 - val_accuracy: 0.3906\n",
      "Epoch 8/50\n",
      "200/200 [==============================] - 2s 9ms/step - loss: 1.3160 - accuracy: 0.4186 - val_loss: 1.3021 - val_accuracy: 0.4344\n",
      "Epoch 9/50\n",
      "200/200 [==============================] - 2s 8ms/step - loss: 1.2620 - accuracy: 0.4597 - val_loss: 1.2534 - val_accuracy: 0.4719\n",
      "Epoch 10/50\n",
      "200/200 [==============================] - 2s 10ms/step - loss: 1.2112 - accuracy: 0.4898 - val_loss: 1.2058 - val_accuracy: 0.5006\n",
      "Epoch 11/50\n",
      "200/200 [==============================] - 2s 11ms/step - loss: 1.1557 - accuracy: 0.5191 - val_loss: 1.1549 - val_accuracy: 0.5312\n",
      "Epoch 12/50\n",
      "200/200 [==============================] - 2s 10ms/step - loss: 1.1005 - accuracy: 0.5466 - val_loss: 1.1013 - val_accuracy: 0.5619\n",
      "Epoch 13/50\n",
      "200/200 [==============================] - 2s 8ms/step - loss: 1.0435 - accuracy: 0.5911 - val_loss: 1.0464 - val_accuracy: 0.6044\n",
      "Epoch 14/50\n",
      "200/200 [==============================] - 2s 8ms/step - loss: 0.9816 - accuracy: 0.6284 - val_loss: 0.9906 - val_accuracy: 0.6231\n",
      "Epoch 15/50\n",
      "200/200 [==============================] - 2s 8ms/step - loss: 0.9209 - accuracy: 0.6480 - val_loss: 0.9378 - val_accuracy: 0.6481\n",
      "Epoch 16/50\n",
      "200/200 [==============================] - 2s 9ms/step - loss: 0.8595 - accuracy: 0.6664 - val_loss: 0.8909 - val_accuracy: 0.6600\n",
      "Epoch 17/50\n",
      "200/200 [==============================] - 2s 9ms/step - loss: 0.8141 - accuracy: 0.6827 - val_loss: 0.8523 - val_accuracy: 0.6656\n",
      "Epoch 18/50\n",
      "200/200 [==============================] - 1s 7ms/step - loss: 0.7709 - accuracy: 0.6945 - val_loss: 0.8188 - val_accuracy: 0.6706\n",
      "Epoch 19/50\n",
      "200/200 [==============================] - 2s 8ms/step - loss: 0.7316 - accuracy: 0.7142 - val_loss: 0.7920 - val_accuracy: 0.6769\n",
      "Epoch 20/50\n",
      "200/200 [==============================] - 2s 11ms/step - loss: 0.7040 - accuracy: 0.7173 - val_loss: 0.7698 - val_accuracy: 0.6750\n",
      "Epoch 21/50\n",
      "200/200 [==============================] - 2s 10ms/step - loss: 0.6732 - accuracy: 0.7381 - val_loss: 0.7507 - val_accuracy: 0.6837\n",
      "Epoch 22/50\n",
      "200/200 [==============================] - 2s 10ms/step - loss: 0.6419 - accuracy: 0.7409 - val_loss: 0.7346 - val_accuracy: 0.6900\n",
      "Epoch 23/50\n",
      "200/200 [==============================] - 2s 9ms/step - loss: 0.6109 - accuracy: 0.7605 - val_loss: 0.7216 - val_accuracy: 0.6944\n",
      "Epoch 24/50\n",
      "200/200 [==============================] - 2s 10ms/step - loss: 0.5901 - accuracy: 0.7636 - val_loss: 0.7104 - val_accuracy: 0.6994\n",
      "Epoch 25/50\n",
      "200/200 [==============================] - 2s 9ms/step - loss: 0.5840 - accuracy: 0.7722 - val_loss: 0.7015 - val_accuracy: 0.7031\n",
      "Epoch 26/50\n",
      "200/200 [==============================] - 2s 10ms/step - loss: 0.5564 - accuracy: 0.7772 - val_loss: 0.6941 - val_accuracy: 0.7063\n",
      "Epoch 27/50\n",
      "200/200 [==============================] - 2s 10ms/step - loss: 0.5395 - accuracy: 0.7902 - val_loss: 0.6867 - val_accuracy: 0.7069\n",
      "Epoch 28/50\n",
      "200/200 [==============================] - 2s 9ms/step - loss: 0.5199 - accuracy: 0.7991 - val_loss: 0.6808 - val_accuracy: 0.7113\n",
      "Epoch 29/50\n",
      "200/200 [==============================] - 2s 9ms/step - loss: 0.5046 - accuracy: 0.7992 - val_loss: 0.6765 - val_accuracy: 0.7138\n",
      "Epoch 30/50\n",
      "200/200 [==============================] - 2s 8ms/step - loss: 0.4891 - accuracy: 0.8062 - val_loss: 0.6724 - val_accuracy: 0.7175\n",
      "Epoch 31/50\n",
      "200/200 [==============================] - 2s 9ms/step - loss: 0.4771 - accuracy: 0.8177 - val_loss: 0.6696 - val_accuracy: 0.7169\n",
      "Epoch 32/50\n",
      "200/200 [==============================] - 2s 9ms/step - loss: 0.4662 - accuracy: 0.8200 - val_loss: 0.6674 - val_accuracy: 0.7231\n",
      "Epoch 33/50\n",
      "200/200 [==============================] - 2s 9ms/step - loss: 0.4526 - accuracy: 0.8253 - val_loss: 0.6646 - val_accuracy: 0.7269\n",
      "Epoch 34/50\n",
      "200/200 [==============================] - 2s 9ms/step - loss: 0.4402 - accuracy: 0.8302 - val_loss: 0.6616 - val_accuracy: 0.7269\n",
      "Epoch 35/50\n",
      "200/200 [==============================] - 2s 10ms/step - loss: 0.4264 - accuracy: 0.8381 - val_loss: 0.6612 - val_accuracy: 0.7250\n",
      "Epoch 36/50\n",
      "200/200 [==============================] - 2s 9ms/step - loss: 0.4096 - accuracy: 0.8430 - val_loss: 0.6622 - val_accuracy: 0.7262\n",
      "Epoch 37/50\n",
      "200/200 [==============================] - 2s 9ms/step - loss: 0.4017 - accuracy: 0.8450 - val_loss: 0.6614 - val_accuracy: 0.7287\n",
      "Epoch 38/50\n",
      "200/200 [==============================] - 2s 10ms/step - loss: 0.3919 - accuracy: 0.8516 - val_loss: 0.6610 - val_accuracy: 0.7300\n",
      "Epoch 39/50\n",
      "200/200 [==============================] - 2s 9ms/step - loss: 0.3805 - accuracy: 0.8611 - val_loss: 0.6631 - val_accuracy: 0.7294\n",
      "Epoch 40/50\n",
      "200/200 [==============================] - 2s 10ms/step - loss: 0.3733 - accuracy: 0.8612 - val_loss: 0.6639 - val_accuracy: 0.7300\n",
      "Epoch 41/50\n",
      "200/200 [==============================] - 2s 9ms/step - loss: 0.3666 - accuracy: 0.8627 - val_loss: 0.6675 - val_accuracy: 0.7306\n"
     ]
    }
   ],
   "source": [
    "epochs = 50\n",
    "history = model.fit(\n",
    "    train_ds,\n",
    "    validation_data=val_ds,\n",
    "    epochs=epochs,\n",
    "    callbacks=callbacks\n",
    ")"
   ]
  },
  {
   "cell_type": "markdown",
   "metadata": {},
   "source": [
    "No matter what I do in this simple paradigm, I'm stuck at around 76% validation accuracy. There's some obvious overfitting going on here that I can't seem to overcome"
   ]
  },
  {
   "cell_type": "code",
   "execution_count": 82,
   "metadata": {},
   "outputs": [
    {
     "name": "stdout",
     "output_type": "stream",
     "text": [
      "  1/250 [..............................] - ETA: 13s - loss: 0.5013 - accuracy: 0.7188"
     ]
    },
    {
     "name": "stdout",
     "output_type": "stream",
     "text": [
      "250/250 [==============================] - 1s 3ms/step - loss: 0.6671 - accuracy: 0.7425\n",
      "Loss:  0.6671305894851685\n",
      "Accuracy:  0.7425000071525574\n"
     ]
    }
   ],
   "source": [
    "loss, accuracy = model.evaluate(test_ds)\n",
    "print('Loss: ', loss)\n",
    "print('Accuracy: ', accuracy)"
   ]
  },
  {
   "cell_type": "code",
   "execution_count": 83,
   "metadata": {},
   "outputs": [
    {
     "data": {
      "text/plain": [
       "dict_keys(['loss', 'accuracy', 'val_loss', 'val_accuracy'])"
      ]
     },
     "execution_count": 83,
     "metadata": {},
     "output_type": "execute_result"
    }
   ],
   "source": [
    "history_dict = history.history\n",
    "history_dict.keys()"
   ]
  },
  {
   "cell_type": "code",
   "execution_count": 84,
   "metadata": {},
   "outputs": [
    {
     "data": {
      "image/png": "[encoded data removed]",
      "text/plain": [
       "<Figure size 640x480 with 1 Axes>"
      ]
     },
     "metadata": {},
     "output_type": "display_data"
    }
   ],
   "source": [
    "acc = history_dict['accuracy']\n",
    "val_acc = history_dict['val_accuracy']\n",
    "loss = history_dict['loss']\n",
    "val_loss = history_dict['val_loss']\n",
    "\n",
    "epochs = range(1, len(acc)+1)\n",
    "\n",
    "plt.plot(epochs, loss, 'bo', label='Training Loss')\n",
    "plt.plot(epochs, val_loss, 'b', label='Validation Loss')\n",
    "plt.xlabel('Epochs')\n",
    "plt.ylabel('Loss')\n",
    "\n",
    "plt.show()"
   ]
  },
  {
   "cell_type": "code",
   "execution_count": 85,
   "metadata": {},
   "outputs": [
    {
     "data": {
      "image/png": "[encoded data removed]",
      "text/plain": [
       "<Figure size 640x480 with 1 Axes>"
      ]
     },
     "metadata": {},
     "output_type": "display_data"
    }
   ],
   "source": [
    "plt.plot(epochs, acc, 'bo', label='Training acc')\n",
    "plt.plot(epochs, val_acc, 'b', label='Validation acc')\n",
    "plt.title('Training and validation accuracy')\n",
    "plt.xlabel('Epochs')\n",
    "plt.ylabel('Accuracy')\n",
    "plt.legend(loc='lower right')\n",
    "\n",
    "plt.show()"
   ]
  },
  {
   "cell_type": "code",
   "execution_count": null,
   "metadata": {},
   "outputs": [],
   "source": []
  }
 ],
 "metadata": {
  "kernelspec": {
   "display_name": "tf-gpu",
   "language": "python",
   "name": "python3"
  },
  "language_info": {
   "codemirror_mode": {
    "name": "ipython",
    "version": 3
   },
   "file_extension": ".py",
   "mimetype": "text/x-python",
   "name": "python",
   "nbconvert_exporter": "python",
   "pygments_lexer": "ipython3",
   "version": "3.9.18"
  }
 },
 "nbformat": 4,
 "nbformat_minor": 2
}
