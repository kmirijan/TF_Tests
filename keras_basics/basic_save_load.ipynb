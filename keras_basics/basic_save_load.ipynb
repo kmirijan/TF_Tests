{
 "cells": [
  {
   "cell_type": "code",
   "execution_count": 1,
   "metadata": {},
   "outputs": [
    {
     "name": "stderr",
     "output_type": "stream",
     "text": [
      "2023-12-18 02:07:18.219070: I tensorflow/core/util/port.cc:113] oneDNN custom operations are on. You may see slightly different numerical results due to floating-point round-off errors from different computation orders. To turn them off, set the environment variable `TF_ENABLE_ONEDNN_OPTS=0`.\n",
      "2023-12-18 02:07:18.249704: E external/local_xla/xla/stream_executor/cuda/cuda_dnn.cc:9261] Unable to register cuDNN factory: Attempting to register factory for plugin cuDNN when one has already been registered\n",
      "2023-12-18 02:07:18.249734: E external/local_xla/xla/stream_executor/cuda/cuda_fft.cc:607] Unable to register cuFFT factory: Attempting to register factory for plugin cuFFT when one has already been registered\n",
      "2023-12-18 02:07:18.250663: E external/local_xla/xla/stream_executor/cuda/cuda_blas.cc:1515] Unable to register cuBLAS factory: Attempting to register factory for plugin cuBLAS when one has already been registered\n",
      "2023-12-18 02:07:18.256186: I tensorflow/core/platform/cpu_feature_guard.cc:182] This TensorFlow binary is optimized to use available CPU instructions in performance-critical operations.\n",
      "To enable the following instructions: AVX2 AVX_VNNI FMA, in other operations, rebuild TensorFlow with the appropriate compiler flags.\n",
      "2023-12-18 02:07:18.804370: W tensorflow/compiler/tf2tensorrt/utils/py_utils.cc:38] TF-TRT Warning: Could not find TensorRT\n"
     ]
    },
    {
     "name": "stdout",
     "output_type": "stream",
     "text": [
      "2.15.0\n"
     ]
    }
   ],
   "source": [
    "import os\n",
    "\n",
    "import tensorflow as tf\n",
    "from tensorflow import keras\n",
    "\n",
    "print(tf.version.VERSION)"
   ]
  },
  {
   "cell_type": "markdown",
   "metadata": {},
   "source": [
    "#### Get example MNIST data"
   ]
  },
  {
   "cell_type": "code",
   "execution_count": 2,
   "metadata": {},
   "outputs": [],
   "source": [
    "(train_images, train_labels), (test_images, test_labels) = tf.keras.datasets.mnist.load_data()\n",
    "\n",
    "train_labels = train_labels[:1000]\n",
    "test_labels = test_labels[:1000]\n",
    "\n",
    "train_images = train_images[:1000].reshape(-1, 28 * 28) / 255.0\n",
    "test_images = test_images[:1000].reshape(-1, 28 * 28) / 255.0"
   ]
  },
  {
   "cell_type": "markdown",
   "metadata": {},
   "source": [
    "#### Make simple model"
   ]
  },
  {
   "cell_type": "code",
   "execution_count": 13,
   "metadata": {},
   "outputs": [
    {
     "name": "stdout",
     "output_type": "stream",
     "text": [
      "Model: \"sequential_2\"\n",
      "_________________________________________________________________\n",
      " Layer (type)                Output Shape              Param #   \n",
      "=================================================================\n",
      " dense_4 (Dense)             (None, 512)               401920    \n",
      "                                                                 \n",
      " dropout_2 (Dropout)         (None, 512)               0         \n",
      "                                                                 \n",
      " dense_5 (Dense)             (None, 10)                5130      \n",
      "                                                                 \n",
      "=================================================================\n",
      "Total params: 407050 (1.55 MB)\n",
      "Trainable params: 407050 (1.55 MB)\n",
      "Non-trainable params: 0 (0.00 Byte)\n",
      "_________________________________________________________________\n"
     ]
    }
   ],
   "source": [
    "from keras import Sequential\n",
    "from keras.layers import Dense, Dropout\n",
    "def create_model():\n",
    "    model = Sequential([\n",
    "        Dense(512, activation='relu', input_shape=(784,)),\n",
    "        Dropout(0.2),\n",
    "        Dense(10)\n",
    "    ])\n",
    "\n",
    "    model.compile(optimizer='adam',\n",
    "                  loss = tf.keras.losses.SparseCategoricalCrossentropy(from_logits=True),\n",
    "                  metrics=[tf.keras.metrics.SparseCategoricalAccuracy()])\n",
    "    return model\n",
    "\n",
    "model = create_model()\n",
    "model.summary()"
   ]
  },
  {
   "cell_type": "markdown",
   "metadata": {},
   "source": [
    "#### Save Checkpoints During Training\n",
    "- `tf.keras.callbacks.ModelCheckpoint`\n",
    "- latest checkpoint: `tf.train.latest_checkpoint`"
   ]
  },
  {
   "cell_type": "code",
   "execution_count": 14,
   "metadata": {},
   "outputs": [
    {
     "name": "stdout",
     "output_type": "stream",
     "text": [
      "Epoch 1/10\n"
     ]
    },
    {
     "name": "stdout",
     "output_type": "stream",
     "text": [
      "27/32 [========================>.....] - ETA: 0s - loss: 1.1802 - sparse_categorical_accuracy: 0.6725\n",
      "Epoch 1: saving model to ../model_checkpoints/training_1/cp.ckpt\n",
      "32/32 [==============================] - 1s 18ms/step - loss: 1.1236 - sparse_categorical_accuracy: 0.6840 - val_loss: 0.6773 - val_sparse_categorical_accuracy: 0.7900\n",
      "Epoch 2/10\n",
      "31/32 [============================>.] - ETA: 0s - loss: 0.4081 - sparse_categorical_accuracy: 0.8901\n",
      "Epoch 2: saving model to ../model_checkpoints/training_1/cp.ckpt\n",
      "32/32 [==============================] - 0s 10ms/step - loss: 0.4072 - sparse_categorical_accuracy: 0.8910 - val_loss: 0.5094 - val_sparse_categorical_accuracy: 0.8370\n",
      "Epoch 3/10\n",
      "30/32 [===========================>..] - ETA: 0s - loss: 0.2725 - sparse_categorical_accuracy: 0.9354\n",
      "Epoch 3: saving model to ../model_checkpoints/training_1/cp.ckpt\n",
      "32/32 [==============================] - 0s 10ms/step - loss: 0.2753 - sparse_categorical_accuracy: 0.9350 - val_loss: 0.4524 - val_sparse_categorical_accuracy: 0.8480\n",
      "Epoch 4/10\n",
      "31/32 [============================>.] - ETA: 0s - loss: 0.2198 - sparse_categorical_accuracy: 0.9385\n",
      "Epoch 4: saving model to ../model_checkpoints/training_1/cp.ckpt\n",
      "32/32 [==============================] - 0s 9ms/step - loss: 0.2222 - sparse_categorical_accuracy: 0.9370 - val_loss: 0.4671 - val_sparse_categorical_accuracy: 0.8470\n",
      "Epoch 5/10\n",
      "31/32 [============================>.] - ETA: 0s - loss: 0.1455 - sparse_categorical_accuracy: 0.9698\n",
      "Epoch 5: saving model to ../model_checkpoints/training_1/cp.ckpt\n",
      "32/32 [==============================] - 0s 9ms/step - loss: 0.1496 - sparse_categorical_accuracy: 0.9680 - val_loss: 0.4130 - val_sparse_categorical_accuracy: 0.8640\n",
      "Epoch 6/10\n",
      "31/32 [============================>.] - ETA: 0s - loss: 0.1156 - sparse_categorical_accuracy: 0.9748\n",
      "Epoch 6: saving model to ../model_checkpoints/training_1/cp.ckpt\n",
      "32/32 [==============================] - 0s 9ms/step - loss: 0.1152 - sparse_categorical_accuracy: 0.9750 - val_loss: 0.4256 - val_sparse_categorical_accuracy: 0.8530\n",
      "Epoch 7/10\n",
      "31/32 [============================>.] - ETA: 0s - loss: 0.0861 - sparse_categorical_accuracy: 0.9879\n",
      "Epoch 7: saving model to ../model_checkpoints/training_1/cp.ckpt\n",
      "32/32 [==============================] - 0s 10ms/step - loss: 0.0888 - sparse_categorical_accuracy: 0.9870 - val_loss: 0.3981 - val_sparse_categorical_accuracy: 0.8670\n",
      "Epoch 8/10\n",
      "29/32 [==========================>...] - ETA: 0s - loss: 0.0704 - sparse_categorical_accuracy: 0.9946\n",
      "Epoch 8: saving model to ../model_checkpoints/training_1/cp.ckpt\n",
      "32/32 [==============================] - 0s 10ms/step - loss: 0.0684 - sparse_categorical_accuracy: 0.9940 - val_loss: 0.3960 - val_sparse_categorical_accuracy: 0.8680\n",
      "Epoch 9/10\n",
      "29/32 [==========================>...] - ETA: 0s - loss: 0.0502 - sparse_categorical_accuracy: 0.9968\n",
      "Epoch 9: saving model to ../model_checkpoints/training_1/cp.ckpt\n",
      "32/32 [==============================] - 0s 10ms/step - loss: 0.0505 - sparse_categorical_accuracy: 0.9970 - val_loss: 0.4003 - val_sparse_categorical_accuracy: 0.8730\n",
      "Epoch 10/10\n",
      "26/32 [=======================>......] - ETA: 0s - loss: 0.0362 - sparse_categorical_accuracy: 1.0000\n",
      "Epoch 10: saving model to ../model_checkpoints/training_1/cp.ckpt\n",
      "32/32 [==============================] - 0s 12ms/step - loss: 0.0378 - sparse_categorical_accuracy: 0.9990 - val_loss: 0.4021 - val_sparse_categorical_accuracy: 0.8650\n"
     ]
    },
    {
     "data": {
      "text/plain": [
       "<keras.src.callbacks.History at 0x7f48cc52f310>"
      ]
     },
     "execution_count": 14,
     "metadata": {},
     "output_type": "execute_result"
    }
   ],
   "source": [
    "checkpoint_path = \"../model_checkpoints/training_1/cp.ckpt\"\n",
    "checkpoint_dir = os.path.dirname(checkpoint_path)\n",
    "\n",
    "# Make checkpoint callback\n",
    "cp_callback = tf.keras.callbacks.ModelCheckpoint(filepath=checkpoint_path,\n",
    "                                                 save_weights_only=True,\n",
    "                                                 verbose=1)\n",
    "# Train with ckpt callback\n",
    "model.fit(train_images,\n",
    "          train_labels,\n",
    "          epochs=10,\n",
    "          validation_data=(test_images, test_labels),\n",
    "          callbacks=[cp_callback])"
   ]
  },
  {
   "cell_type": "code",
   "execution_count": 15,
   "metadata": {},
   "outputs": [
    {
     "data": {
      "text/plain": [
       "['cp.ckpt.data-00000-of-00001', 'cp.ckpt.index', 'checkpoint']"
      ]
     },
     "execution_count": 15,
     "metadata": {},
     "output_type": "execute_result"
    }
   ],
   "source": [
    "os.listdir(checkpoint_dir)"
   ]
  },
  {
   "cell_type": "markdown",
   "metadata": {},
   "source": [
    "#### Load Weights\n",
    "- `model.load_weights`"
   ]
  },
  {
   "cell_type": "code",
   "execution_count": 16,
   "metadata": {},
   "outputs": [
    {
     "name": "stdout",
     "output_type": "stream",
     "text": [
      "32/32 - 0s - loss: 2.3632 - sparse_categorical_accuracy: 0.1050 - 154ms/epoch - 5ms/step\n",
      "Untrained model, accuracy: 10.50%\n"
     ]
    }
   ],
   "source": [
    "# As long as two models have the same architecture, you can load the weights from one to the other\n",
    "# Create basic model instance\n",
    "model = create_model()\n",
    "loss, acc = model.evaluate(test_images, test_labels, verbose=2)\n",
    "print('Untrained model, accuracy: {:5.2f}%'.format(100*acc))"
   ]
  },
  {
   "cell_type": "code",
   "execution_count": 17,
   "metadata": {},
   "outputs": [
    {
     "name": "stdout",
     "output_type": "stream",
     "text": [
      "32/32 - 0s - loss: 0.4021 - sparse_categorical_accuracy: 0.8650 - 142ms/epoch - 4ms/step\n",
      "Untrained model, accuracy: 86.50%\n"
     ]
    }
   ],
   "source": [
    "# Load weights\n",
    "model.load_weights(checkpoint_path)\n",
    "\n",
    "# Evaluate model\n",
    "loss, acc = model.evaluate(test_images, test_labels, verbose=2)\n",
    "print('Untrained model, accuracy: {:5.2f}%'.format(100*acc))"
   ]
  },
  {
   "cell_type": "code",
   "execution_count": 19,
   "metadata": {},
   "outputs": [
    {
     "name": "stdout",
     "output_type": "stream",
     "text": [
      "\n",
      "Epoch 5: saving model to ../model_checkpoints/training_2/cp-0005.ckpt\n",
      "\n",
      "Epoch 10: saving model to ../model_checkpoints/training_2/cp-0010.ckpt\n",
      "\n",
      "Epoch 15: saving model to ../model_checkpoints/training_2/cp-0015.ckpt\n",
      "\n",
      "Epoch 20: saving model to ../model_checkpoints/training_2/cp-0020.ckpt\n",
      "\n",
      "Epoch 25: saving model to ../model_checkpoints/training_2/cp-0025.ckpt\n",
      "\n",
      "Epoch 30: saving model to ../model_checkpoints/training_2/cp-0030.ckpt\n",
      "\n",
      "Epoch 35: saving model to ../model_checkpoints/training_2/cp-0035.ckpt\n",
      "\n",
      "Epoch 40: saving model to ../model_checkpoints/training_2/cp-0040.ckpt\n",
      "\n",
      "Epoch 45: saving model to ../model_checkpoints/training_2/cp-0045.ckpt\n",
      "\n",
      "Epoch 50: saving model to ../model_checkpoints/training_2/cp-0050.ckpt\n"
     ]
    },
    {
     "data": {
      "text/plain": [
       "<keras.src.callbacks.History at 0x7f4993854d90>"
      ]
     },
     "execution_count": 19,
     "metadata": {},
     "output_type": "execute_result"
    }
   ],
   "source": [
    "# Extra callback options\n",
    "# Save every 5 epochs\n",
    "checkpoint_path = '../model_checkpoints/training_2/cp-{epoch:04d}.ckpt'\n",
    "checkpoint_dir = os.path.dirname(checkpoint_path)\n",
    "batch_size=32\n",
    "\n",
    "# Get batches per epoch\n",
    "import math\n",
    "n_batches = len(train_images)/batch_size\n",
    "n_batches = math.ceil(n_batches) # Probably could've done this with // or something\n",
    "\n",
    "# Create callback that saves model's weights every 5 epochs\n",
    "cp_callback = tf.keras.callbacks.ModelCheckpoint(\n",
    "    filepath=checkpoint_path,\n",
    "    verbose=1,\n",
    "    save_weights_only=True,\n",
    "    save_freq = 5*n_batches\n",
    ")\n",
    "\n",
    "model = create_model()\n",
    "model.save_weights(checkpoint_path.format(epoch=0)) # Save weights with checkpoint path format\n",
    "\n",
    "model.fit(train_images,\n",
    "          train_labels,\n",
    "          epochs=50,\n",
    "          batch_size=batch_size,\n",
    "          callbacks=[cp_callback],\n",
    "          validation_data=(test_images, test_labels),\n",
    "          verbose=0)\n"
   ]
  },
  {
   "cell_type": "code",
   "execution_count": 20,
   "metadata": {},
   "outputs": [
    {
     "data": {
      "text/plain": [
       "['cp-0005.ckpt.data-00000-of-00001',\n",
       " 'cp-0005.ckpt.index',\n",
       " 'cp-0045.ckpt.data-00000-of-00001',\n",
       " 'cp-0025.ckpt.data-00000-of-00001',\n",
       " 'cp-0000.ckpt.data-00000-of-00001',\n",
       " 'cp-0015.ckpt.data-00000-of-00001',\n",
       " 'cp-0025.ckpt.index',\n",
       " 'cp-0010.ckpt.data-00000-of-00001',\n",
       " 'cp-0050.ckpt.index',\n",
       " 'cp-0035.ckpt.data-00000-of-00001',\n",
       " 'cp-0030.ckpt.data-00000-of-00001',\n",
       " 'cp-0030.ckpt.index',\n",
       " 'checkpoint',\n",
       " 'cp-0010.ckpt.index',\n",
       " 'cp-0000.ckpt.index',\n",
       " 'cp-0050.ckpt.data-00000-of-00001',\n",
       " 'cp-0035.ckpt.index',\n",
       " 'cp-0045.ckpt.index',\n",
       " 'cp-0040.ckpt.index',\n",
       " 'cp-0015.ckpt.index',\n",
       " 'cp-0040.ckpt.data-00000-of-00001',\n",
       " 'cp-0020.ckpt.data-00000-of-00001',\n",
       " 'cp-0020.ckpt.index']"
      ]
     },
     "execution_count": 20,
     "metadata": {},
     "output_type": "execute_result"
    }
   ],
   "source": [
    "os.listdir(checkpoint_dir)"
   ]
  },
  {
   "cell_type": "code",
   "execution_count": 21,
   "metadata": {},
   "outputs": [
    {
     "data": {
      "text/plain": [
       "'../model_checkpoints/training_2/cp-0050.ckpt'"
      ]
     },
     "execution_count": 21,
     "metadata": {},
     "output_type": "execute_result"
    }
   ],
   "source": [
    "latest = tf.train.latest_checkpoint(checkpoint_dir)\n",
    "latest"
   ]
  },
  {
   "cell_type": "code",
   "execution_count": 22,
   "metadata": {},
   "outputs": [
    {
     "name": "stdout",
     "output_type": "stream",
     "text": [
      "32/32 - 0s - loss: 0.4788 - sparse_categorical_accuracy: 0.8750 - 160ms/epoch - 5ms/step\n",
      "Restored model, accuracy: 87.50%\n"
     ]
    }
   ],
   "source": [
    "# Reset and redo\n",
    "model = create_model()\n",
    "model.load_weights(latest)\n",
    "loss, acc = model.evaluate(test_images, test_labels, verbose=2)\n",
    "print(\"Restored model, accuracy: {:5.2f}%\".format(100 * acc))"
   ]
  },
  {
   "cell_type": "markdown",
   "metadata": {},
   "source": [
    "#### Manual Save Weights\n",
    "- `save_weights` and `load_weights`"
   ]
  },
  {
   "cell_type": "code",
   "execution_count": 23,
   "metadata": {},
   "outputs": [
    {
     "name": "stdout",
     "output_type": "stream",
     "text": [
      "32/32 - 0s - loss: 0.4788 - sparse_categorical_accuracy: 0.8750 - 158ms/epoch - 5ms/step\n",
      "Restored model, accuracy: 87.50%\n"
     ]
    }
   ],
   "source": [
    "model.save_weights('../model_checkpoints/test_checkpoint')\n",
    "model = create_model()\n",
    "model.load_weights('../model_checkpoints/test_checkpoint')\n",
    "\n",
    "loss, acc = model.evaluate(test_images, test_labels, verbose=2)\n",
    "print(\"Restored model, accuracy: {:5.2f}%\".format(100 * acc))"
   ]
  },
  {
   "cell_type": "markdown",
   "metadata": {},
   "source": [
    "#### Save Full Model\n",
    "- New `.keras` format\n",
    "- Legacy `SavedModel` and `HDF5` formats\n",
    "- Custom objects like subclassed models or layers get saved differently"
   ]
  },
  {
   "cell_type": "code",
   "execution_count": 26,
   "metadata": {},
   "outputs": [
    {
     "name": "stdout",
     "output_type": "stream",
     "text": [
      "Epoch 1/5\n",
      "32/32 [==============================] - 1s 6ms/step - loss: 1.2399 - sparse_categorical_accuracy: 0.6480\n",
      "Epoch 2/5\n",
      "32/32 [==============================] - 0s 6ms/step - loss: 0.4518 - sparse_categorical_accuracy: 0.8760\n",
      "Epoch 3/5\n",
      "32/32 [==============================] - 0s 6ms/step - loss: 0.2907 - sparse_categorical_accuracy: 0.9280\n",
      "Epoch 4/5\n",
      "32/32 [==============================] - 0s 6ms/step - loss: 0.2289 - sparse_categorical_accuracy: 0.9430\n",
      "Epoch 5/5\n",
      "32/32 [==============================] - 0s 6ms/step - loss: 0.1692 - sparse_categorical_accuracy: 0.9590\n"
     ]
    }
   ],
   "source": [
    "# .keras format\n",
    "model = create_model()\n",
    "model.fit(train_images, train_labels, epochs=5)\n",
    "\n",
    "model.save('../saved_models/keras_save.keras')"
   ]
  },
  {
   "cell_type": "code",
   "execution_count": 28,
   "metadata": {},
   "outputs": [
    {
     "name": "stdout",
     "output_type": "stream",
     "text": [
      "Model: \"sequential_9\"\n",
      "_________________________________________________________________\n",
      " Layer (type)                Output Shape              Param #   \n",
      "=================================================================\n",
      " dense_18 (Dense)            (None, 512)               401920    \n",
      "                                                                 \n",
      " dropout_9 (Dropout)         (None, 512)               0         \n",
      "                                                                 \n",
      " dense_19 (Dense)            (None, 10)                5130      \n",
      "                                                                 \n",
      "=================================================================\n",
      "Total params: 407050 (1.55 MB)\n",
      "Trainable params: 407050 (1.55 MB)\n",
      "Non-trainable params: 0 (0.00 Byte)\n",
      "_________________________________________________________________\n",
      "32/32 - 0s - loss: 0.4229 - sparse_categorical_accuracy: 0.8730 - 167ms/epoch - 5ms/step\n",
      "Restored model, accuracy: 87.30%\n",
      "32/32 [==============================] - 0s 2ms/step\n",
      "(1000, 10)\n"
     ]
    }
   ],
   "source": [
    "# Refresh\n",
    "new_model = tf.keras.models.load_model('../saved_models/keras_save.keras')\n",
    "new_model.summary()\n",
    "loss, acc = new_model.evaluate(test_images, test_labels, verbose=2)\n",
    "print('Restored model, accuracy: {:5.2f}%'.format(100 * acc))\n",
    "\n",
    "print(new_model.predict(test_images).shape)"
   ]
  },
  {
   "cell_type": "code",
   "execution_count": 29,
   "metadata": {},
   "outputs": [
    {
     "name": "stdout",
     "output_type": "stream",
     "text": [
      "Epoch 1/5\n",
      "32/32 [==============================] - 1s 7ms/step - loss: 1.1639 - sparse_categorical_accuracy: 0.6730\n",
      "Epoch 2/5\n",
      "32/32 [==============================] - 0s 6ms/step - loss: 0.4146 - sparse_categorical_accuracy: 0.8890\n",
      "Epoch 3/5\n",
      "32/32 [==============================] - 0s 6ms/step - loss: 0.2771 - sparse_categorical_accuracy: 0.9390\n",
      "Epoch 4/5\n",
      "32/32 [==============================] - 0s 6ms/step - loss: 0.2066 - sparse_categorical_accuracy: 0.9460\n",
      "Epoch 5/5\n",
      "32/32 [==============================] - 0s 4ms/step - loss: 0.1541 - sparse_categorical_accuracy: 0.9660\n",
      "INFO:tensorflow:Assets written to: ../saved_models/saved_model/my_model/assets\n"
     ]
    },
    {
     "name": "stderr",
     "output_type": "stream",
     "text": [
      "INFO:tensorflow:Assets written to: ../saved_models/saved_model/my_model/assets\n"
     ]
    }
   ],
   "source": [
    "# SavedModel format\n",
    "model = create_model()\n",
    "model.fit(train_images, train_labels, epochs=5)\n",
    "\n",
    "# Save the entire model as a SavedModel.\n",
    "model.save('../saved_models/saved_model/my_model')"
   ]
  },
  {
   "cell_type": "code",
   "execution_count": 31,
   "metadata": {},
   "outputs": [
    {
     "name": "stdout",
     "output_type": "stream",
     "text": [
      "my_model\n",
      "assets\tfingerprint.pb\tkeras_metadata.pb  saved_model.pb  variables\n"
     ]
    }
   ],
   "source": [
    "!ls ../saved_models/saved_model\n",
    "!ls ../saved_models/saved_model/my_model"
   ]
  },
  {
   "cell_type": "code",
   "execution_count": 33,
   "metadata": {},
   "outputs": [
    {
     "name": "stdout",
     "output_type": "stream",
     "text": [
      "Model: \"sequential_10\"\n",
      "_________________________________________________________________\n",
      " Layer (type)                Output Shape              Param #   \n",
      "=================================================================\n",
      " dense_20 (Dense)            (None, 512)               401920    \n",
      "                                                                 \n",
      " dropout_10 (Dropout)        (None, 512)               0         \n",
      "                                                                 \n",
      " dense_21 (Dense)            (None, 10)                5130      \n",
      "                                                                 \n",
      "=================================================================\n",
      "Total params: 407050 (1.55 MB)\n",
      "Trainable params: 407050 (1.55 MB)\n",
      "Non-trainable params: 0 (0.00 Byte)\n",
      "_________________________________________________________________\n",
      "32/32 - 0s - loss: 0.4308 - sparse_categorical_accuracy: 0.8600 - 178ms/epoch - 6ms/step\n",
      "Restored model, accuracy: 86.00%\n",
      "32/32 [==============================] - 0s 2ms/step\n",
      "(1000, 10)\n"
     ]
    }
   ],
   "source": [
    "# Reload\n",
    "new_model = tf.keras.models.load_model('../saved_models/saved_model/my_model')\n",
    "\n",
    "# Check its architecture\n",
    "new_model.summary()\n",
    "loss, acc = new_model.evaluate(test_images, test_labels, verbose=2)\n",
    "print('Restored model, accuracy: {:5.2f}%'.format(100 * acc))\n",
    "\n",
    "print(new_model.predict(test_images).shape)"
   ]
  },
  {
   "cell_type": "code",
   "execution_count": 34,
   "metadata": {},
   "outputs": [
    {
     "name": "stdout",
     "output_type": "stream",
     "text": [
      "Epoch 1/5\n",
      "32/32 [==============================] - 1s 7ms/step - loss: 1.1458 - sparse_categorical_accuracy: 0.6900\n",
      "Epoch 2/5\n",
      "32/32 [==============================] - 0s 6ms/step - loss: 0.4132 - sparse_categorical_accuracy: 0.8860\n",
      "Epoch 3/5\n",
      "32/32 [==============================] - 0s 6ms/step - loss: 0.2790 - sparse_categorical_accuracy: 0.9280\n",
      "Epoch 4/5\n",
      "32/32 [==============================] - 0s 6ms/step - loss: 0.1980 - sparse_categorical_accuracy: 0.9580\n",
      "Epoch 5/5\n",
      "32/32 [==============================] - 0s 6ms/step - loss: 0.1551 - sparse_categorical_accuracy: 0.9710\n"
     ]
    },
    {
     "name": "stderr",
     "output_type": "stream",
     "text": [
      "/home/kmirijan/miniconda3/envs/tf-gpu/lib/python3.9/site-packages/keras/src/engine/training.py:3103: UserWarning: You are saving your model as an HDF5 file via `model.save()`. This file format is considered legacy. We recommend using instead the native Keras format, e.g. `model.save('my_model.keras')`.\n",
      "  saving_api.save_model(\n"
     ]
    }
   ],
   "source": [
    "# HDF5 format\n",
    "model = create_model()\n",
    "model.fit(train_images, train_labels, epochs=5)\n",
    "\n",
    "# Save the entire model to a HDF5 file.\n",
    "# The '.h5' extension indicates that the model should be saved to HDF5.\n",
    "model.save('../saved_models/hdf5_test_model.h5')"
   ]
  },
  {
   "cell_type": "code",
   "execution_count": 37,
   "metadata": {},
   "outputs": [
    {
     "name": "stdout",
     "output_type": "stream",
     "text": [
      "Model: \"sequential_11\"\n",
      "_________________________________________________________________\n",
      " Layer (type)                Output Shape              Param #   \n",
      "=================================================================\n",
      " dense_22 (Dense)            (None, 512)               401920    \n",
      "                                                                 \n",
      " dropout_11 (Dropout)        (None, 512)               0         \n",
      "                                                                 \n",
      " dense_23 (Dense)            (None, 10)                5130      \n",
      "                                                                 \n",
      "=================================================================\n",
      "Total params: 407050 (1.55 MB)\n",
      "Trainable params: 407050 (1.55 MB)\n",
      "Non-trainable params: 0 (0.00 Byte)\n",
      "_________________________________________________________________\n",
      "32/32 - 0s - loss: 0.4070 - sparse_categorical_accuracy: 0.8640 - 164ms/epoch - 5ms/step\n",
      "Restored model, accuracy: 86.40%\n"
     ]
    }
   ],
   "source": [
    "new_model = tf.keras.models.load_model('../saved_models/hdf5_test_model.h5')\n",
    "\n",
    "# Show the model architecture\n",
    "new_model.summary()\n",
    "loss, acc = new_model.evaluate(test_images, test_labels, verbose=2)\n",
    "print('Restored model, accuracy: {:5.2f}%'.format(100 * acc))"
   ]
  },
  {
   "cell_type": "markdown",
   "metadata": {},
   "source": [
    "#### Custom Objects\n",
    "- Custom objects can be saved as `SavedModels` without any special care, but they are harder to debug\n",
    "- Check the tutorial for saving as `.keras` and `HDF5` since they are \"better\""
   ]
  },
  {
   "cell_type": "code",
   "execution_count": null,
   "metadata": {},
   "outputs": [],
   "source": []
  }
 ],
 "metadata": {
  "kernelspec": {
   "display_name": "tf-gpu",
   "language": "python",
   "name": "python3"
  },
  "language_info": {
   "codemirror_mode": {
    "name": "ipython",
    "version": 3
   },
   "file_extension": ".py",
   "mimetype": "text/x-python",
   "name": "python",
   "nbconvert_exporter": "python",
   "pygments_lexer": "ipython3",
   "version": "3.9.18"
  }
 },
 "nbformat": 4,
 "nbformat_minor": 2
}
